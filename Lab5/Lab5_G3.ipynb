{
  "cells": [
    {
      "cell_type": "markdown",
      "metadata": {
        "id": "R1JjZ592UF-K"
      },
      "source": [
        "## Quadratic equation  $a x^2 + b x + c = 0$\n",
        "\n",
        "$$ x_1,x_2 = \\frac{-b \\pm \\sqrt{b^2-4ac}}{2a}$$\n",
        "\n",
        "Are the same root (zeros) of \n",
        "\n",
        "$$x^2 + \\frac{b}{a} x + \\frac{c}{c} = 0$$"
      ]
    },
    {
      "cell_type": "code",
      "execution_count": null,
      "metadata": {
        "colab": {
          "base_uri": "https://localhost:8080/",
          "height": 265
        },
        "id": "SxD-No_oUDzB",
        "outputId": "a615c8e8-1c2b-4a0f-bb44-5b501d38832e"
      },
      "outputs": [
        {
          "output_type": "display_data",
          "data": {
            "text/plain": [
              "<Figure size 432x288 with 1 Axes>"
            ],
            "image/png": "[encoded data removed]"
          },
          "metadata": {
            "needs_background": "light"
          }
        }
      ],
      "source": [
        "import numpy as np\n",
        "import matplotlib.pyplot as plt\n",
        "\n",
        "def quadratic(a,b,c,x):\n",
        "    return a*x**2+b*x+c\n",
        "\n",
        "def quadraticeqiv(a,b,c,x):\n",
        "    return x**2+(b/a)*x+(c/a)\n",
        "\n",
        "# (2x-1) (x+2) = 2x**2 +3x -2 =0;  x_1 = 1/2, x_2 =-2\n",
        "# Equivalent x**2 +3/2x -1 = 0 \n",
        "\n",
        "x = np.arange(-3.5, 2, 0.001)\n",
        "z = np.zeros(len(x))\n",
        "y = quadratic(2,3,-2,x)\n",
        "ynew = quadraticeqiv(2,3,-2,x)\n",
        "plt.plot(x, y, x, ynew, x,z)\n",
        "plt.show()"
      ]
    },
    {
      "cell_type": "markdown",
      "metadata": {
        "id": "5Mj2AvtnTyys"
      },
      "source": [
        "## Solve a quadratic equation, $x^2 + b x + c = 0$.\n",
        "\n",
        "\n",
        "Write a function which receives $b$ and $c$, the coefficients of a monic quadratic polynomial, $x^2 + b x + c$, and returns the pair of its roots. Your function should always return two values, even if quadratic has a double root.\n",
        "\n",
        "For example, given a quadratic $x^2 - 2x + 1$, your function should return a pair of $(1, 1)$. Of course, in floating point, your answers may differ from an exact unity.\n",
        "\n",
        "Your function also must correctly handle complex roots (to this end, you might need the `cmath` module from the standard library)."
      ]
    },
    {
      "cell_type": "code",
      "execution_count": null,
      "metadata": {
        "id": "cC1VlR0iTyAM"
      },
      "outputs": [],
      "source": [
        "import math \n",
        "def solve_quad(b, c):\n",
        "    \"\"\"Solve a quadratic equation, x**2 + bx + c = 0.\n",
        "    \n",
        "    Parameters\n",
        "    ----------\n",
        "    b, c : float\n",
        "       Coefficients\n",
        "       \n",
        "    Returns\n",
        "    -------\n",
        "    x1, x2 : float or complex\n",
        "       Roots.  \"\"\"\n",
        "    \n",
        "    Disc = (b**2) - (4*c)\n",
        "\n",
        "    if (Disc == b**2):\n",
        "      x1 = -b\n",
        "      x2 = c/x1\n",
        "\n",
        "    elif (Disc) < 0:\n",
        "      x1 = complex((-b/2), (math.sqrt(abs(Disc))/2))\n",
        "      x2 = complex((-b/2), (-math.sqrt(abs(Disc))/2))\n",
        "\n",
        "\n",
        "    else:\n",
        "      x1 = (-b + (math.sqrt(Disc)))/2\n",
        "      x2 = (-b - (math.sqrt(Disc)))/2\n",
        "\n",
        "    return x1,x2"
      ]
    },
    {
      "cell_type": "markdown",
      "metadata": {
        "id": "DtLraQJFVwpc"
      },
      "source": [
        "Test the your function on several examples against a calculation by hand. Once you're sure that your function works, try these five test cases below. \n",
        "\n",
        "Note that the last two test cases are special: they test whether your function handles extreme cases where a too simple approach is prone to a catastrophic cancellation. Make sure your function passes all five tests.\n",
        "\n",
        "This exercise is graded, each test case contributes a 20% of the grade"
      ]
    },
    {
      "cell_type": "code",
      "execution_count": null,
      "metadata": {
        "id": "HuWJU41fV1Ny"
      },
      "outputs": [],
      "source": [
        "from numpy import allclose"
      ]
    },
    {
      "cell_type": "code",
      "execution_count": null,
      "metadata": {
        "id": "G82jYtUyV13S"
      },
      "outputs": [],
      "source": [
        "variants = [{'b': 4.0, 'c': 3.0},\n",
        "            {'b': 2.0, 'c': 1.0},\n",
        "            {'b': 0.5, 'c': 4.0},\n",
        "            {'b': 1e10, 'c': 3.0},\n",
        "            {'b': -1e10, 'c': 4.0},]"
      ]
    },
    {
      "cell_type": "code",
      "execution_count": null,
      "metadata": {
        "colab": {
          "base_uri": "https://localhost:8080/"
        },
        "id": "2EzkqR_QV36D",
        "outputId": "a6cbe831-b44a-4a3c-d121-b92da07de28e"
      },
      "outputs": [
        {
          "output_type": "stream",
          "name": "stdout",
          "text": [
            "True\n",
            "True\n",
            "True\n",
            "True\n",
            "True\n"
          ]
        }
      ],
      "source": [
        "for var in variants:\n",
        "    x1, x2 = solve_quad(**var)\n",
        "    print(allclose(x1*x2, var['c']))"
      ]
    },
    {
      "cell_type": "code",
      "execution_count": null,
      "metadata": {
        "colab": {
          "base_uri": "https://localhost:8080/"
        },
        "id": "8HLE3pdnWG_z",
        "outputId": "79a3d59a-a46d-4f8e-8f3c-96ea3b8698aa"
      },
      "outputs": [
        {
          "output_type": "stream",
          "name": "stdout",
          "text": [
            "solve_quad(4.0,3.0) (-1.0, -3.0)\n",
            "solve_quad(2.0,1.0) (-1.0, -1.0)\n",
            "solve_quad(0.5,4.0) ((-0.25+1.984313483298443j), (-0.25-1.984313483298443j))\n",
            "solve_quad(10000000000.0,3.0) (-10000000000.0, -3e-10)\n",
            "solve_quad(-10000000000.0,4.0) (10000000000.0, 4e-10)\n"
          ]
        }
      ],
      "source": [
        "for var in variants:\n",
        "    x1, x2 = solve_quad(**var)\n",
        "    print(\"solve_quad(\"+str(var['b'])+\",\"+str(var['c'])+\")\",solve_quad(**var) )"
      ]
    },
    {
      "cell_type": "markdown",
      "metadata": {
        "id": "33dZJJaPgapL"
      },
      "source": [
        "## Analytic solutions with sympy solveset."
      ]
    },
    {
      "cell_type": "code",
      "execution_count": null,
      "metadata": {
        "colab": {
          "base_uri": "https://localhost:8080/",
          "height": 37
        },
        "id": "hDNLnEhceHJU",
        "outputId": "2bdfc35b-1163-4556-b4a2-892f20d42403"
      },
      "outputs": [
        {
          "output_type": "execute_result",
          "data": {
            "text/plain": [
              "FiniteSet(-3, -1)"
            ],
            "text/latex": "$\\displaystyle \\left\\{-3, -1\\right\\}$"
          },
          "metadata": {},
          "execution_count": 13
        }
      ],
      "source": [
        "from sympy import Symbol, solveset, Eq, Rational\n",
        "x = Symbol('x')\n",
        "solveset(Eq(x**2 + 4*x + 3, 0), x)"
      ]
    },
    {
      "cell_type": "code",
      "execution_count": null,
      "metadata": {
        "colab": {
          "base_uri": "https://localhost:8080/",
          "height": 37
        },
        "id": "fsR9jpplfPqb",
        "outputId": "7c981faa-5a8f-4c7e-b946-41b0a34ff1c6"
      },
      "outputs": [
        {
          "output_type": "execute_result",
          "data": {
            "text/plain": [
              "FiniteSet(-1)"
            ],
            "text/latex": "$\\displaystyle \\left\\{-1\\right\\}$"
          },
          "metadata": {},
          "execution_count": 14
        }
      ],
      "source": [
        "solveset(Eq(x**2 + 2*x + 1, 0), x)"
      ]
    },
    {
      "cell_type": "code",
      "execution_count": null,
      "metadata": {
        "colab": {
          "base_uri": "https://localhost:8080/",
          "height": 68
        },
        "id": "owasE6zrgBLc",
        "outputId": "f48337b5-878d-4273-e488-ff0048c1e17a"
      },
      "outputs": [
        {
          "output_type": "execute_result",
          "data": {
            "text/plain": [
              "FiniteSet(-1/4 - sqrt(15)*I/4, -1/4 + sqrt(15)*I/4)"
            ],
            "text/latex": "$\\displaystyle \\left\\{- \\frac{1}{4} - \\frac{\\sqrt{15} i}{4}, - \\frac{1}{4} + \\frac{\\sqrt{15} i}{4}\\right\\}$"
          },
          "metadata": {},
          "execution_count": 15
        }
      ],
      "source": [
        "solveset(Eq(x**2 + Rational(1,2)*x + 1, 0), x)"
      ]
    },
    {
      "cell_type": "code",
      "execution_count": null,
      "metadata": {
        "colab": {
          "base_uri": "https://localhost:8080/",
          "height": 48
        },
        "id": "rOagaA89e1SE",
        "outputId": "72ce0ab4-fee3-4b3b-b174-de958177dd5d"
      },
      "outputs": [
        {
          "output_type": "execute_result",
          "data": {
            "text/plain": [
              "FiniteSet(-5000000000 + sqrt(24999999999999999997), -5000000000 - sqrt(24999999999999999997))"
            ],
            "text/latex": "$\\displaystyle \\left\\{-5000000000 - \\sqrt{24999999999999999997}, -5000000000 + \\sqrt{24999999999999999997}\\right\\}$"
          },
          "metadata": {},
          "execution_count": 16
        }
      ],
      "source": [
        "solveset(Eq(x**2 + 10000000000*x + 3, 0), x)"
      ]
    },
    {
      "cell_type": "code",
      "execution_count": null,
      "metadata": {
        "colab": {
          "base_uri": "https://localhost:8080/",
          "height": 48
        },
        "id": "QROcdwRJexu7",
        "outputId": "25aed858-4f78-4898-aedd-dc26883241ce"
      },
      "outputs": [
        {
          "output_type": "execute_result",
          "data": {
            "text/plain": [
              "FiniteSet(5000000000 - 2*sqrt(6249999999999999999), 5000000000 + 2*sqrt(6249999999999999999))"
            ],
            "text/latex": "$\\displaystyle \\left\\{5000000000 - 2 \\sqrt{6249999999999999999}, 5000000000 + 2 \\sqrt{6249999999999999999}\\right\\}$"
          },
          "metadata": {},
          "execution_count": 17
        }
      ],
      "source": [
        "solveset(Eq(x**2 - 10000000000*x + 4, 0), x)"
      ]
    },
    {
      "cell_type": "markdown",
      "metadata": {
        "id": "zOj_mh6SrPkk"
      },
      "source": [
        "\n",
        "## Po-Shen Loh method to solve the quadratic equation $x^2 + b x + c = 0$ \n",
        "\n",
        "https://youtu.be/ZBalWWHYFQc\n",
        "\n",
        "![hoShenLo.png](https://raw.githubusercontent.com/gjhernandezp/NM/main/Computer%20Arithmetic/PhoShenLo.png)\n",
        "\n",
        "\n",
        "\n",
        "\n",
        "\n",
        "\n"
      ]
    },
    {
      "cell_type": "markdown",
      "metadata": {
        "id": "P2R4Kb2kaHzD"
      },
      "source": [
        "## Solve a quadratic equation, $x^2 + b x + c = 0$ using the Po-Shen Loh \n",
        "\n",
        "$$ x^2 + b x + c =  (x + x_1) (x  + x_2) = (x  - (-x_1)) (x  - (-x_2)) $$\n",
        "with\n",
        "$$ x_1 + x_2 = b$$\n",
        "and \n",
        "$$ x_1 * x_2 = c$$\n",
        "\n",
        "$$ x_1 = \\frac{b}{2} - u$$\n",
        "$$ x_2 = \\frac{b}{2} + u$$\n",
        "\n",
        "$$  c = x_1 x_2  = \\left (\\frac{b}{2}\\right)^2 -  u^2$$\n",
        "\n",
        "$$  u = \\sqrt {\\left(\\frac{b}{2}\\right)^2 -  c} $$\n",
        "\n",
        "Roots are \n",
        "\n",
        "$$ - x_1 = -\\left(\\frac{b}{2} - u\\right)$$\n",
        "$$ - x_2 = -\\left(\\frac{b}{2} + u\\right)$$\n",
        "\n",
        "\n",
        "\n",
        "\n",
        "Write a function which receives $b$ and $c$, the coefficients of a monic quadratic polynomial, $x^2 + b x + c$, and returns $u$ form the Po-Shen Loh method and the pair of its roots. Your function should always return three values, even if quadratic has a double root.\n",
        "\n",
        "For example, given a quadratic $x^2 - 2x + 1$, your function should return  $(0j, (1+0j), (1+0j))$. Of course, in floating point, your answers may differ from an exact unity.\n",
        "\n",
        "Your function also must correctly handle complex roots (to this end, you might need the `cmath` module from the standard library) and if $u$ can not be calculated because floting-point limitations should return $u$ equal to $-1$\n",
        "\n",
        "\n",
        "\n"
      ]
    },
    {
      "cell_type": "code",
      "execution_count": null,
      "metadata": {
        "id": "GxQXT4W5ldqs"
      },
      "outputs": [],
      "source": [
        "from sympy.core import cache\n",
        "import cmath\n",
        "\n",
        "def solve_quad_Po_Shen_Loh(b, c):\n",
        "\n",
        "    disc = ((b/2)**2) - (c)\n",
        "    pr = (b/2)**2\n",
        "\n",
        "    if(disc == pr):\n",
        "      u = -1\n",
        "      x1 = -b\n",
        "      x2 = c/x1\n",
        "\n",
        "    else: \n",
        "      u = cmath.sqrt(disc)\n",
        "      x1 = -((b/2) - u)\n",
        "      x2 = -((b/2) + u)\n",
        "\n",
        "    return u,x1,x2"
      ]
    },
    {
      "cell_type": "markdown",
      "metadata": {
        "id": "XA1yEMI-rz8I"
      },
      "source": [
        "Test the your function on several examples against a calculation by hand. Once you're sure that your function works, try these five test cases below. \n",
        "\n",
        "Note that the last two test cases are special: they test whether your function handles extreme cases where a too simple approach is prone to a catastrophic cancellation. Make sure your function passes all five tests.\n",
        "\n",
        "This exercise is graded, each test case contributes a 20% of the grade. "
      ]
    },
    {
      "cell_type": "code",
      "execution_count": null,
      "metadata": {
        "id": "rB96llJzm8zt"
      },
      "outputs": [],
      "source": [
        "from numpy import allclose"
      ]
    },
    {
      "cell_type": "code",
      "execution_count": null,
      "metadata": {
        "collapsed": true,
        "id": "A--UYkmlrz8J"
      },
      "outputs": [],
      "source": [
        "variants = [{'b': 4.0, 'c': 3.0},\n",
        "            {'b': 2.0, 'c': 1.0},\n",
        "            {'b': 0.5, 'c': 4.0},\n",
        "            {'b': 1e10, 'c': 3.0},\n",
        "            {'b': -1e10, 'c': 4.0},]"
      ]
    },
    {
      "cell_type": "code",
      "execution_count": null,
      "metadata": {
        "colab": {
          "base_uri": "https://localhost:8080/"
        },
        "id": "TpSM9Zh9rz8K",
        "outputId": "1f7d3370-4a19-485c-c76a-31c0be72cb30"
      },
      "outputs": [
        {
          "output_type": "stream",
          "name": "stdout",
          "text": [
            "True\n",
            "True\n",
            "True\n",
            "True\n",
            "True\n"
          ]
        }
      ],
      "source": [
        "for var in variants:\n",
        "    u, x1, x2 = solve_quad_Po_Shen_Loh(**var)\n",
        "    print(allclose(x1*x2, var['c']))"
      ]
    },
    {
      "cell_type": "code",
      "execution_count": null,
      "metadata": {
        "colab": {
          "base_uri": "https://localhost:8080/"
        },
        "id": "4Zh88PhlMfGC",
        "outputId": "644a0cba-5947-4300-e567-130fdad9e492"
      },
      "outputs": [
        {
          "output_type": "stream",
          "name": "stdout",
          "text": [
            "solve_quad_Po_Shen_Loh(4.0,3.0) ((1+0j), (-1-0j), (-3-0j))\n",
            "solve_quad_Po_Shen_Loh(2.0,1.0) (0j, (-1-0j), (-1-0j))\n",
            "solve_quad_Po_Shen_Loh(0.5,4.0) (1.984313483298443j, (-0.25+1.984313483298443j), (-0.25-1.984313483298443j))\n",
            "solve_quad_Po_Shen_Loh(10000000000.0,3.0) (-1, -10000000000.0, -3e-10)\n",
            "solve_quad_Po_Shen_Loh(-10000000000.0,4.0) (-1, 10000000000.0, 4e-10)\n"
          ]
        }
      ],
      "source": [
        "for var in variants:\n",
        "    u, x1, x2 = solve_quad_Po_Shen_Loh(**var)\n",
        "    print(\"solve_quad_Po_Shen_Loh(\"+str(var['b'])+\",\"+str(var['c'])+\")\",solve_quad_Po_Shen_Loh(**var) )"
      ]
    }
  ],
  "metadata": {
    "colab": {
      "collapsed_sections": [],
      "name": "group9AlgorithmicToolboxWeek1Quadratic_ipynb.ipynb.txt",
      "provenance": []
    },
    "kernelspec": {
      "display_name": "Python 3",
      "language": "python",
      "name": "python3"
    },
    "language_info": {
      "codemirror_mode": {
        "name": "ipython",
        "version": 3
      },
      "file_extension": ".py",
      "mimetype": "text/x-python",
      "name": "python",
      "nbconvert_exporter": "python",
      "pygments_lexer": "ipython3",
      "version": "3.10.4"
    }
  },
  "nbformat": 4,
  "nbformat_minor": 0
}