{
  "cells": [
    {
      "cell_type": "markdown",
      "metadata": {
        "id": "view-in-github",
        "colab_type": "text"
      },
      "source": [
        "<a href=\"https://colab.research.google.com/github/elramirezn/MetNumUN2022II/blob/main/Lab2/elramirez_Lab2.ipynb\" target=\"_parent\"><img src=\"https://colab.research.google.com/assets/colab-badge.svg\" alt=\"Open In Colab\"/></a>"
      ]
    },
    {
      "cell_type": "markdown",
      "source": [
        "Colaboratory link: https://colab.research.google.com/drive/1S2CdYplV_IN7_S9X-IvqUz_hb-DrUp4U?usp=sharing"
      ],
      "metadata": {
        "id": "UH_q2yhuI_0I"
      }
    },
    {
      "cell_type": "code",
      "source": [
        "pip install -U fortran-magic\n"
      ],
      "metadata": {
        "colab": {
          "base_uri": "https://localhost:8080/"
        },
        "id": "t42z0cc_Ua4w",
        "outputId": "15401b71-7c78-4876-89ba-528529779af5"
      },
      "execution_count": 1,
      "outputs": [
        {
          "output_type": "stream",
          "name": "stdout",
          "text": [
            "Looking in indexes: https://pypi.org/simple, https://us-python.pkg.dev/colab-wheels/public/simple/\n",
            "Collecting fortran-magic\n",
            "  Downloading fortran_magic-0.7-py3-none-any.whl (9.6 kB)\n",
            "Requirement already satisfied: numpy in /usr/local/lib/python3.7/dist-packages (from fortran-magic) (1.21.6)\n",
            "Requirement already satisfied: ipython in /usr/local/lib/python3.7/dist-packages (from fortran-magic) (7.9.0)\n",
            "Requirement already satisfied: pickleshare in /usr/local/lib/python3.7/dist-packages (from ipython->fortran-magic) (0.7.5)\n",
            "Requirement already satisfied: backcall in /usr/local/lib/python3.7/dist-packages (from ipython->fortran-magic) (0.2.0)\n",
            "Requirement already satisfied: traitlets>=4.2 in /usr/local/lib/python3.7/dist-packages (from ipython->fortran-magic) (5.1.1)\n",
            "Collecting jedi>=0.10\n",
            "  Downloading jedi-0.18.1-py2.py3-none-any.whl (1.6 MB)\n",
            "\u001b[K     |████████████████████████████████| 1.6 MB 4.1 MB/s \n",
            "\u001b[?25hRequirement already satisfied: decorator in /usr/local/lib/python3.7/dist-packages (from ipython->fortran-magic) (4.4.2)\n",
            "Requirement already satisfied: pexpect in /usr/local/lib/python3.7/dist-packages (from ipython->fortran-magic) (4.8.0)\n",
            "Requirement already satisfied: pygments in /usr/local/lib/python3.7/dist-packages (from ipython->fortran-magic) (2.6.1)\n",
            "Requirement already satisfied: setuptools>=18.5 in /usr/local/lib/python3.7/dist-packages (from ipython->fortran-magic) (57.4.0)\n",
            "Requirement already satisfied: prompt-toolkit<2.1.0,>=2.0.0 in /usr/local/lib/python3.7/dist-packages (from ipython->fortran-magic) (2.0.10)\n",
            "Requirement already satisfied: parso<0.9.0,>=0.8.0 in /usr/local/lib/python3.7/dist-packages (from jedi>=0.10->ipython->fortran-magic) (0.8.3)\n",
            "Requirement already satisfied: six>=1.9.0 in /usr/local/lib/python3.7/dist-packages (from prompt-toolkit<2.1.0,>=2.0.0->ipython->fortran-magic) (1.15.0)\n",
            "Requirement already satisfied: wcwidth in /usr/local/lib/python3.7/dist-packages (from prompt-toolkit<2.1.0,>=2.0.0->ipython->fortran-magic) (0.2.5)\n",
            "Requirement already satisfied: ptyprocess>=0.5 in /usr/local/lib/python3.7/dist-packages (from pexpect->ipython->fortran-magic) (0.7.0)\n",
            "Installing collected packages: jedi, fortran-magic\n",
            "Successfully installed fortran-magic-0.7 jedi-0.18.1\n"
          ]
        }
      ]
    },
    {
      "cell_type": "code",
      "execution_count": 2,
      "metadata": {
        "autoscroll": false,
        "ein.tags": "worksheet-0",
        "id": "FrAt48DtiXb-",
        "outputId": "fe02912a-90ca-48d2-a5e3-2b080ccaba7b",
        "colab": {
          "base_uri": "https://localhost:8080/",
          "height": 52
        }
      },
      "outputs": [
        {
          "output_type": "stream",
          "name": "stderr",
          "text": [
            "/usr/local/lib/python3.7/dist-packages/fortranmagic.py:147: UserWarning: get_ipython_cache_dir has moved to the IPython.paths module since IPython 4.0.\n",
            "  self._lib_dir = os.path.join(get_ipython_cache_dir(), 'fortran')\n"
          ]
        },
        {
          "output_type": "display_data",
          "data": {
            "application/javascript": [
              "new Promise(function(resolve, reject) {\n",
              "\tvar script = document.createElement(\"script\");\n",
              "\tscript.onload = resolve;\n",
              "\tscript.onerror = reject;\n",
              "\tscript.src = \"https://raw.github.com/marijnh/CodeMirror/master/mode/fortran/fortran.js\";\n",
              "\tdocument.head.appendChild(script);\n",
              "}).then(() => {\n",
              "IPython.config.cell_magic_highlight['magic_fortran'] = {'reg':[/^%%fortran/]};\n",
              "});"
            ]
          },
          "metadata": {}
        }
      ],
      "source": [
        "%matplotlib inline\n",
        "%load_ext fortranmagic\n",
        "\n",
        "import sys; sys.path.append('..')\n",
        "\n",
        "import pandas as pd\n",
        "import numpy as np\n",
        "import matplotlib as mpl\n",
        "import matplotlib.pyplot as plt\n",
        "import seaborn as sns\n",
        "\n",
        "mpl.rc('figure', figsize=(12, 7))\n",
        "\n",
        "ran_the_first_cell = True\n",
        "\n",
        "jan2017 = pd.to_datetime(['2017-01-03 00:00:00+00:00',\n",
        " '2017-01-04 00:00:00+00:00',\n",
        " '2017-01-05 00:00:00+00:00',\n",
        " '2017-01-06 00:00:00+00:00',\n",
        " '2017-01-09 00:00:00+00:00',\n",
        " '2017-01-10 00:00:00+00:00',\n",
        " '2017-01-11 00:00:00+00:00',\n",
        " '2017-01-12 00:00:00+00:00',\n",
        " '2017-01-13 00:00:00+00:00',\n",
        " '2017-01-17 00:00:00+00:00',\n",
        " '2017-01-18 00:00:00+00:00',\n",
        " '2017-01-19 00:00:00+00:00',\n",
        " '2017-01-20 00:00:00+00:00',\n",
        " '2017-01-23 00:00:00+00:00',\n",
        " '2017-01-24 00:00:00+00:00',\n",
        " '2017-01-25 00:00:00+00:00',\n",
        " '2017-01-26 00:00:00+00:00',\n",
        " '2017-01-27 00:00:00+00:00',\n",
        " '2017-01-30 00:00:00+00:00',\n",
        " '2017-01-31 00:00:00+00:00',\n",
        " '2017-02-01 00:00:00+00:00'])\n",
        "calendar = jan2017.values.astype('datetime64[D]')\n",
        "\n",
        "event_dates = pd.to_datetime(['2017-01-06 00:00:00+00:00', \n",
        "                             '2017-01-07 00:00:00+00:00', \n",
        "                             '2017-01-08 00:00:00+00:00']).values.astype('datetime64[D]')\n",
        "event_values = np.array([10, 15, 20])"
      ]
    },
    {
      "cell_type": "markdown",
      "metadata": {
        "ein.tags": "worksheet-0",
        "id": "lHm410FBiXcC"
      },
      "source": [
        "<center>\n",
        "  <h1>The PyData Toolbox</h1>\n",
        "  <h3>Scott Sanderson (Twitter: @scottbsanderson, GitHub: ssanderson)</h3>\n",
        "  <h3><a href=\"https://github.com/ssanderson/pydata-toolbox\">https://github.com/ssanderson/pydata-toolbox</a></h3>\n",
        "</center>"
      ]
    },
    {
      "cell_type": "markdown",
      "metadata": {
        "collapsed": true,
        "ein.tags": "worksheet-0",
        "id": "0CXHsFMBiXcD"
      },
      "source": [
        "# About Me:\n",
        "\n",
        "<img src=\"https://raw.githubusercontent.com/ssanderson/pydata-toolbox/master/notebooks/images/me.jpg\" alt=\"Drawing\" style=\"width: 300px;\"/>\n",
        "\n",
        "- Senior Engineer at [Quantopian](www.quantopian.com)\n",
        "- Background in Mathematics and Philosophy\n",
        "- **Twitter:** [@scottbsanderson](https://twitter.com/scottbsanderson)\n",
        "- **GitHub:** [ssanderson](github.com/ssanderson)"
      ]
    },
    {
      "cell_type": "markdown",
      "metadata": {
        "id": "tcOO-3C8iXcE"
      },
      "source": [
        "## Outline\n",
        "\n",
        "- Built-in Data Structures\n",
        "- Numpy `array`\n",
        "- Pandas `Series`/`DataFrame`\n",
        "- Plotting and \"Real-World\" Analyses"
      ]
    },
    {
      "cell_type": "markdown",
      "metadata": {
        "id": "qGj-c9CliXcE"
      },
      "source": [
        "# Data Structures"
      ]
    },
    {
      "cell_type": "markdown",
      "metadata": {
        "id": "Nsn-QHmCiXcF"
      },
      "source": [
        "> Rule 5. Data dominates. If you've chosen the right data structures and organized things well, the algorithms\n",
        "will almost always be self-evident. Data structures, not algorithms, are central to programming.\n",
        "\n",
        "- *Notes on Programming in C*, by Rob Pike."
      ]
    },
    {
      "cell_type": "markdown",
      "metadata": {
        "id": "_yhFg_rXiXcF"
      },
      "source": [
        "# Lists"
      ]
    },
    {
      "cell_type": "code",
      "execution_count": null,
      "metadata": {
        "collapsed": true,
        "id": "97QvmzbqiXcG"
      },
      "outputs": [],
      "source": [
        "assert ran_the_first_cell, \"Oh noes!\""
      ]
    },
    {
      "cell_type": "code",
      "execution_count": null,
      "metadata": {
        "id": "nhIZgNXLiXcG",
        "outputId": "c0c79633-a40b-48b0-ca4a-0cce283c8512",
        "colab": {
          "base_uri": "https://localhost:8080/"
        }
      },
      "outputs": [
        {
          "output_type": "execute_result",
          "data": {
            "text/plain": [
              "[1, 'two', 3.0, 4, 5.0, 'six']"
            ]
          },
          "metadata": {},
          "execution_count": 43
        }
      ],
      "source": [
        "l = [1, 'two', 3.0, 4, 5.0, \"six\"]\n",
        "l"
      ]
    },
    {
      "cell_type": "code",
      "execution_count": null,
      "metadata": {
        "id": "Cjj8bfDAiXcH",
        "outputId": "23bd1c5f-de33-4b56-c732-561f29bd8f50",
        "colab": {
          "base_uri": "https://localhost:8080/"
        }
      },
      "outputs": [
        {
          "output_type": "stream",
          "name": "stdout",
          "text": [
            "first: 1\n",
            "second: two\n"
          ]
        }
      ],
      "source": [
        "# Lists can be indexed like C-style arrays.\n",
        "first = l[0]\n",
        "second = l[1]\n",
        "print(\"first:\", first)\n",
        "print(\"second:\", second)"
      ]
    },
    {
      "cell_type": "code",
      "execution_count": null,
      "metadata": {
        "id": "cVozluPbiXcH",
        "outputId": "2dade4fa-b51a-4ed5-f168-b2f44390ba2f",
        "colab": {
          "base_uri": "https://localhost:8080/"
        }
      },
      "outputs": [
        {
          "output_type": "stream",
          "name": "stdout",
          "text": [
            "last: six\n",
            "second to last: 5.0\n"
          ]
        }
      ],
      "source": [
        "# Negative indexing gives elements relative to the end of the list.\n",
        "last = l[-1]\n",
        "penultimate = l[-2]\n",
        "print(\"last:\", last)\n",
        "print(\"second to last:\", penultimate)"
      ]
    },
    {
      "cell_type": "code",
      "execution_count": null,
      "metadata": {
        "id": "PTqqm8MeiXcI",
        "outputId": "c432aad1-364a-4c76-d5c3-ee8753ee3ba9",
        "colab": {
          "base_uri": "https://localhost:8080/"
        }
      },
      "outputs": [
        {
          "output_type": "execute_result",
          "data": {
            "text/plain": [
              "['two', 3.0]"
            ]
          },
          "metadata": {},
          "execution_count": 8
        }
      ],
      "source": [
        "# Lists can also be sliced, which makes a copy of elements between \n",
        "# start (inclusive) and stop (exclusive)\n",
        "sublist = l[1:3]\n",
        "sublist"
      ]
    },
    {
      "cell_type": "code",
      "execution_count": null,
      "metadata": {
        "id": "ugUUXXUViXcI",
        "outputId": "8f8541af-d87f-4500-e1a7-747cad81c483",
        "colab": {
          "base_uri": "https://localhost:8080/"
        }
      },
      "outputs": [
        {
          "output_type": "execute_result",
          "data": {
            "text/plain": [
              "[1, 'two', 3.0]"
            ]
          },
          "metadata": {},
          "execution_count": 9
        }
      ],
      "source": [
        "# l[:N] is equivalent to l[0:N].\n",
        "first_three = l[:3]\n",
        "first_three"
      ]
    },
    {
      "cell_type": "code",
      "execution_count": null,
      "metadata": {
        "id": "otoRjbK7iXcI",
        "outputId": "57a0b45b-2bea-45cb-e7b3-9c41b048d455",
        "colab": {
          "base_uri": "https://localhost:8080/"
        }
      },
      "outputs": [
        {
          "output_type": "execute_result",
          "data": {
            "text/plain": [
              "[4, 5.0, 'six']"
            ]
          },
          "metadata": {},
          "execution_count": 10
        }
      ],
      "source": [
        "# l[3:] is equivalent to l[3:len(l)].\n",
        "after_three = l[3:]\n",
        "after_three"
      ]
    },
    {
      "cell_type": "code",
      "execution_count": null,
      "metadata": {
        "id": "2ZndPPspiXcJ",
        "outputId": "7d9273ca-ed35-4094-8920-35ca7ca2e424",
        "colab": {
          "base_uri": "https://localhost:8080/"
        }
      },
      "outputs": [
        {
          "output_type": "execute_result",
          "data": {
            "text/plain": [
              "['b', 'd', 'f']"
            ]
          },
          "metadata": {},
          "execution_count": 11
        }
      ],
      "source": [
        "# There's also a third parameter, \"step\", which gets every Nth element.\n",
        "l = ['a', 'b', 'c', 'd', 'e', 'f', 'g','h']\n",
        "l[1:7:2]"
      ]
    },
    {
      "cell_type": "code",
      "execution_count": null,
      "metadata": {
        "id": "dt2OMhnZiXcJ",
        "outputId": "32c58cd9-b84b-4f29-c048-cab9edb26540",
        "colab": {
          "base_uri": "https://localhost:8080/"
        }
      },
      "outputs": [
        {
          "output_type": "execute_result",
          "data": {
            "text/plain": [
              "['h', 'g', 'f', 'e', 'd', 'c', 'b', 'a']"
            ]
          },
          "metadata": {},
          "execution_count": 12
        }
      ],
      "source": [
        "# This is a cute way to reverse a list.\n",
        "l[::-1]"
      ]
    },
    {
      "cell_type": "code",
      "execution_count": null,
      "metadata": {
        "id": "uDIdawFwiXcJ",
        "outputId": "4f326b32-85ec-4c5e-db09-3e35575d47d1",
        "colab": {
          "base_uri": "https://localhost:8080/"
        }
      },
      "outputs": [
        {
          "output_type": "stream",
          "name": "stdout",
          "text": [
            "Before: [1, 2, 3, 4, 5]\n",
            "After: [1, 2, 3, 4, 5, 'six']\n"
          ]
        }
      ],
      "source": [
        "# Lists can be grown efficiently (in O(1) amortized time).\n",
        "l = [1, 2, 3, 4, 5]\n",
        "print(\"Before:\", l)\n",
        "l.append('six')\n",
        "print(\"After:\", l)"
      ]
    },
    {
      "cell_type": "code",
      "execution_count": null,
      "metadata": {
        "id": "OIhO0xxUiXcK",
        "outputId": "1401d1f2-3d15-4ff8-c4fe-f69f0e2d1cd0",
        "colab": {
          "base_uri": "https://localhost:8080/"
        }
      },
      "outputs": [
        {
          "output_type": "execute_result",
          "data": {
            "text/plain": [
              "[2, 4, 6, 8, 10]"
            ]
          },
          "metadata": {},
          "execution_count": 14
        }
      ],
      "source": [
        "# Comprehensions let us perform elementwise computations.\n",
        "l = [1, 2, 3, 4, 5]\n",
        "[x * 2 for x in l]"
      ]
    },
    {
      "cell_type": "markdown",
      "metadata": {
        "ein.tags": "worksheet-0",
        "id": "gh1Uw4KtiXcK"
      },
      "source": [
        "## Review: Python Lists\n",
        "\n",
        "- Zero-indexed sequence of arbitrary Python values.\n",
        "- Slicing syntax: `l[start:stop:step]` copies elements at regular intervals from `start` to `stop`.\n",
        "- Efficient (`O(1)`) appends and removes from end.\n",
        "- Comprehension syntax: `[f(x) for x in l if cond(x)]`."
      ]
    },
    {
      "cell_type": "markdown",
      "metadata": {
        "id": "KPeFQQs5iXcK"
      },
      "source": [
        "# Dictionaries"
      ]
    },
    {
      "cell_type": "code",
      "execution_count": null,
      "metadata": {
        "id": "55GAxN3AiXcL"
      },
      "outputs": [],
      "source": [
        "# Dictionaries are key-value mappings.\n",
        "philosophers = {'David': 'Hume', 'Immanuel': 'Kant', 'Bertrand': 'Russell'}\n",
        "philosophers"
      ]
    },
    {
      "cell_type": "code",
      "execution_count": null,
      "metadata": {
        "id": "V3JS2kHSiXcL",
        "outputId": "710ff74c-945f-4481-cd2d-9f0950ec0676",
        "colab": {
          "base_uri": "https://localhost:8080/",
          "height": 200
        }
      },
      "outputs": [
        {
          "output_type": "error",
          "ename": "NameError",
          "evalue": "ignored",
          "traceback": [
            "\u001b[0;31m---------------------------------------------------------------------------\u001b[0m",
            "\u001b[0;31mNameError\u001b[0m                                 Traceback (most recent call last)",
            "\u001b[0;32m<ipython-input-4-a9cebae76984>\u001b[0m in \u001b[0;36m<module>\u001b[0;34m\u001b[0m\n\u001b[1;32m      1\u001b[0m \u001b[0;31m# Like lists, dictionaries are size-mutable.\u001b[0m\u001b[0;34m\u001b[0m\u001b[0;34m\u001b[0m\u001b[0;34m\u001b[0m\u001b[0m\n\u001b[0;32m----> 2\u001b[0;31m \u001b[0mphilosophers\u001b[0m\u001b[0;34m[\u001b[0m\u001b[0;34m'Ludwig'\u001b[0m\u001b[0;34m]\u001b[0m \u001b[0;34m=\u001b[0m \u001b[0;34m'Wittgenstein'\u001b[0m\u001b[0;34m\u001b[0m\u001b[0;34m\u001b[0m\u001b[0m\n\u001b[0m\u001b[1;32m      3\u001b[0m \u001b[0mphilosophers\u001b[0m\u001b[0;34m\u001b[0m\u001b[0;34m\u001b[0m\u001b[0m\n",
            "\u001b[0;31mNameError\u001b[0m: name 'philosophers' is not defined"
          ]
        }
      ],
      "source": [
        "# Like lists, dictionaries are size-mutable.\n",
        "philosophers['Ludwig'] = 'Wittgenstein'\n",
        "philosophers"
      ]
    },
    {
      "cell_type": "code",
      "execution_count": null,
      "metadata": {
        "id": "YRGePTociXcL"
      },
      "outputs": [],
      "source": [
        "del philosophers['David']\n",
        "philosophers"
      ]
    },
    {
      "cell_type": "code",
      "execution_count": null,
      "metadata": {
        "id": "2E4f_6pQiXcM"
      },
      "outputs": [],
      "source": [
        "# No slicing.\n",
        "philosophers['Bertrand':'Immanuel']"
      ]
    },
    {
      "cell_type": "markdown",
      "metadata": {
        "ein.tags": "worksheet-0",
        "id": "xvN8eqK2iXcM"
      },
      "source": [
        "## Review: Python Dictionaries\n",
        "\n",
        "- Unordered key-value mapping from (almost) arbitrary keys to arbitrary values.\n",
        "- Efficient (`O(1)`) lookup, insertion, and deletion.\n",
        "- No slicing (would require a notion of order)."
      ]
    },
    {
      "cell_type": "markdown",
      "metadata": {
        "id": "3C9gwhYDiXcM"
      },
      "source": [
        "<center><img src=\"https://raw.githubusercontent.com/ssanderson/pydata-toolbox/master/notebooks/images/pacino.gif\" alt=\"Drawing\" style=\"width: 100%;\"/></center>\n"
      ]
    },
    {
      "cell_type": "code",
      "execution_count": null,
      "metadata": {
        "collapsed": true,
        "id": "eqFZgJyyiXcM"
      },
      "outputs": [],
      "source": [
        "# Suppose we have some matrices...\n",
        "a = [[1, 2, 3],\n",
        "     [2, 3, 4],\n",
        "     [5, 6, 7],\n",
        "     [1, 1, 1]]\n",
        "\n",
        "b = [[1, 2, 3, 4],\n",
        "     [2, 3, 4, 5]]"
      ]
    },
    {
      "cell_type": "code",
      "execution_count": null,
      "metadata": {
        "collapsed": true,
        "id": "TfFqABAMiXcM"
      },
      "outputs": [],
      "source": [
        "def matmul(A, B):\n",
        "    \"\"\"Multiply matrix A by matrix B.\"\"\"\n",
        "    rows_out = len(A)\n",
        "    cols_out = len(B[0])\n",
        "    out = [[0 for col in range(cols_out)] for row in range(rows_out)]\n",
        "    \n",
        "    for i in range(rows_out):\n",
        "        for j in range(cols_out):\n",
        "            for k in range(len(B)):\n",
        "                out[i][j] += A[i][k] * B[k][j]\n",
        "    return out"
      ]
    },
    {
      "cell_type": "markdown",
      "metadata": {
        "id": "Yuee_jmYiXcN"
      },
      "source": [
        "<center><img src=\"https://raw.githubusercontent.com/ssanderson/pydata-toolbox/master/notebooks/images/gross.gif\" alt=\"Drawing\" style=\"width: 50%;\"/></center>\n"
      ]
    },
    {
      "cell_type": "code",
      "execution_count": null,
      "metadata": {
        "id": "PerN-NDRiXcN",
        "outputId": "d95b141a-1a02-48ec-9c2b-543ec20bb075",
        "colab": {
          "base_uri": "https://localhost:8080/"
        }
      },
      "outputs": [
        {
          "output_type": "stream",
          "name": "stdout",
          "text": [
            "CPU times: user 37 µs, sys: 0 ns, total: 37 µs\n",
            "Wall time: 41.7 µs\n"
          ]
        },
        {
          "output_type": "execute_result",
          "data": {
            "text/plain": [
              "[[5, 8, 11, 14], [8, 13, 18, 23], [17, 28, 39, 50], [3, 5, 7, 9]]"
            ]
          },
          "metadata": {},
          "execution_count": 24
        }
      ],
      "source": [
        "%%time\n",
        "\n",
        "matmul(a, b)"
      ]
    },
    {
      "cell_type": "markdown",
      "source": [
        "My own example 1\n"
      ],
      "metadata": {
        "id": "EFlf_ZLgsUEo"
      }
    },
    {
      "cell_type": "code",
      "source": [
        "def matmul(A, B):\n",
        "    \"\"\"Multiply matrix A by matrix B.\"\"\"\n",
        "    rows_out = len(A)\n",
        "    cols_out = len(B[0])\n",
        "    if rows_out == cols_out:\n",
        "      out = [[0 for col in range(cols_out)] for row in range(rows_out)]\n",
        "      \n",
        "      for i in range(rows_out):\n",
        "          for j in range(cols_out):\n",
        "              for k in range(len(B)):\n",
        "                  out[i][j] += A[i][k] * B[k][j]\n",
        "      return out\n",
        "    else:\n",
        "      return \"Wrong Matrices Dimensions\""
      ],
      "metadata": {
        "id": "T71BRNaG3fev"
      },
      "execution_count": null,
      "outputs": []
    },
    {
      "cell_type": "markdown",
      "source": [
        "My own example 2\n"
      ],
      "metadata": {
        "id": "8sLiMfvlUJzp"
      }
    },
    {
      "cell_type": "code",
      "source": [
        "c = [[1, 2, 3],\n",
        "     [2, 3, 4],\n",
        "     [5, 6, 7],\n",
        "     [1, 1, 1]]\n",
        "\n",
        "d = [[1, 2, 3, 4,5],\n",
        "     [2, 3, 4, 5,6]]"
      ],
      "metadata": {
        "id": "HjyOAFQW3gc3",
        "colab": {
          "base_uri": "https://localhost:8080/",
          "height": 70
        },
        "outputId": "695a395f-5363-4ef4-d4d2-43eccbf5b9a0"
      },
      "execution_count": null,
      "outputs": [
        {
          "output_type": "stream",
          "name": "stdout",
          "text": [
            "CPU times: user 6 µs, sys: 0 ns, total: 6 µs\n",
            "Wall time: 10.5 µs\n"
          ]
        },
        {
          "output_type": "execute_result",
          "data": {
            "text/plain": [
              "'Wrong Matrices Dimensions'"
            ],
            "application/vnd.google.colaboratory.intrinsic+json": {
              "type": "string"
            }
          },
          "metadata": {},
          "execution_count": 28
        }
      ]
    },
    {
      "cell_type": "markdown",
      "source": [
        "My own example 3 "
      ],
      "metadata": {
        "id": "AGztFKBNuQ_e"
      }
    },
    {
      "cell_type": "code",
      "source": [
        "%%time\n",
        "\n",
        "matmul(c, d)"
      ],
      "metadata": {
        "id": "4rgHkUNC3haX",
        "colab": {
          "base_uri": "https://localhost:8080/",
          "height": 70
        },
        "outputId": "e7be1444-30ed-489e-fdbe-04c0098656a8"
      },
      "execution_count": null,
      "outputs": [
        {
          "output_type": "stream",
          "name": "stdout",
          "text": [
            "CPU times: user 6 µs, sys: 1e+03 ns, total: 7 µs\n",
            "Wall time: 11.4 µs\n"
          ]
        },
        {
          "output_type": "execute_result",
          "data": {
            "text/plain": [
              "'Wrong Matrices Dimensions'"
            ],
            "application/vnd.google.colaboratory.intrinsic+json": {
              "type": "string"
            }
          },
          "metadata": {},
          "execution_count": 30
        }
      ]
    },
    {
      "cell_type": "markdown",
      "source": [
        "My own example 4"
      ],
      "metadata": {
        "id": "A4SoDNPpuZpp"
      }
    },
    {
      "cell_type": "code",
      "source": [
        "c = [[1, 2, 3],\n",
        "     [2, 3, 4],\n",
        "     [5, 6, 7],\n",
        "     [1, 1, 1]]\n",
        "\n",
        "d = [[1, 2, 3, 4],\n",
        "     [2, 3, 4, 5],\n",
        "     [6, 7, 8, 9]]"
      ],
      "metadata": {
        "id": "wpnd21c83jQI"
      },
      "execution_count": null,
      "outputs": []
    },
    {
      "cell_type": "markdown",
      "source": [
        "My own example 5"
      ],
      "metadata": {
        "id": "MZTTYVu0ufCY"
      }
    },
    {
      "cell_type": "code",
      "source": [
        "%%time\n",
        "\n",
        "matmul(c, d)"
      ],
      "metadata": {
        "id": "q8nHrWQz3kby",
        "colab": {
          "base_uri": "https://localhost:8080/"
        },
        "outputId": "817863df-58b4-4c7c-bfa1-7264d350f69c"
      },
      "execution_count": null,
      "outputs": [
        {
          "output_type": "stream",
          "name": "stdout",
          "text": [
            "CPU times: user 40 µs, sys: 4 µs, total: 44 µs\n",
            "Wall time: 49.4 µs\n"
          ]
        },
        {
          "output_type": "execute_result",
          "data": {
            "text/plain": [
              "[[23, 29, 35, 41], [32, 41, 50, 59], [59, 77, 95, 113], [9, 12, 15, 18]]"
            ]
          },
          "metadata": {},
          "execution_count": 32
        }
      ]
    },
    {
      "cell_type": "markdown",
      "source": [
        "My own example 6"
      ],
      "metadata": {
        "id": "GM5DAXUIuhEg"
      }
    },
    {
      "cell_type": "code",
      "execution_count": null,
      "metadata": {
        "id": "X1tnwMvd3bIP",
        "colab": {
          "base_uri": "https://localhost:8080/"
        },
        "outputId": "bd07abe9-25f7-42cc-b0cc-949bd30659ad"
      },
      "outputs": [
        {
          "output_type": "execute_result",
          "data": {
            "text/plain": [
              "[[0.9645510324697146, 0.5074607017135752, 0.38463137074877773],\n",
              " [0.9285323388205511, 0.03121310818148293, 0.2809241001210525]]"
            ]
          },
          "metadata": {},
          "execution_count": 34
        }
      ],
      "source": [
        "import random\n",
        "def random_matrix(m, n):\n",
        "    out = []\n",
        "    for row in range(m):\n",
        "        out.append([random.random() for _ in range(n)])\n",
        "    return out\n",
        "\n",
        "randm = random_matrix(2, 3)\n",
        "randm"
      ]
    },
    {
      "cell_type": "markdown",
      "source": [
        "My own Example 7"
      ],
      "metadata": {
        "id": "SbGqB2xzTnXq"
      }
    },
    {
      "cell_type": "code",
      "source": [
        "%%time\n",
        "randC = random_matrix(600, 100)\n",
        "randD = random_matrix(99, 600)\n",
        "x = matmul(randC, randD)"
      ],
      "metadata": {
        "id": "M-e3aEaU37_H",
        "colab": {
          "base_uri": "https://localhost:8080/"
        },
        "outputId": "60ad1d2e-77c2-4e16-f9e8-195f9211edff"
      },
      "execution_count": null,
      "outputs": [
        {
          "output_type": "stream",
          "name": "stdout",
          "text": [
            "CPU times: user 7.4 s, sys: 3.36 ms, total: 7.41 s\n",
            "Wall time: 7.41 s\n"
          ]
        }
      ]
    },
    {
      "cell_type": "code",
      "execution_count": null,
      "metadata": {
        "scrolled": true,
        "id": "M5czoKckiXcN",
        "colab": {
          "base_uri": "https://localhost:8080/"
        },
        "outputId": "9d5b0875-5456-4f02-8c07-75e1d85162b4"
      },
      "outputs": [
        {
          "output_type": "stream",
          "name": "stdout",
          "text": [
            "CPU times: user 3.88 s, sys: 23.8 ms, total: 3.9 s\n",
            "Wall time: 3.91 s\n"
          ]
        }
      ],
      "source": [
        "%%time\n",
        "randa = random_matrix(500, 785)\n",
        "randb = random_matrix(74, 500)\n",
        "x = matmul(randa, randb)"
      ]
    },
    {
      "cell_type": "code",
      "execution_count": null,
      "metadata": {
        "collapsed": true,
        "id": "hXy_q4S8iXcN"
      },
      "outputs": [],
      "source": [
        "# Maybe that's not that bad?  Let's try a simpler case.\n",
        "def python_dot_product(xs, ys):\n",
        "    return sum(x * y for x, y in zip(xs, ys))"
      ]
    },
    {
      "cell_type": "code",
      "execution_count": null,
      "metadata": {
        "collapsed": true,
        "id": "qylqVrbqiXcO"
      },
      "outputs": [],
      "source": [
        "%%fortran\n",
        "subroutine fortran_dot_product(xs, ys, result)\n",
        "    double precision, intent(in) :: xs(:)\n",
        "    double precision, intent(in) :: ys(:)\n",
        "    double precision, intent(out) :: result\n",
        "    \n",
        "    result = sum(xs * ys)\n",
        "end"
      ]
    },
    {
      "cell_type": "code",
      "execution_count": null,
      "metadata": {
        "collapsed": true,
        "id": "BGacVDX-iXcO"
      },
      "outputs": [],
      "source": [
        "list_data = [float(i) for i in range(100000)]\n",
        "array_data = np.array(list_data)"
      ]
    },
    {
      "cell_type": "code",
      "execution_count": null,
      "metadata": {
        "id": "aaZPRE4aiXcO",
        "colab": {
          "base_uri": "https://localhost:8080/"
        },
        "outputId": "e0000788-a547-49f5-9160-d8e6189ae275"
      },
      "outputs": [
        {
          "output_type": "stream",
          "name": "stdout",
          "text": [
            "CPU times: user 11.2 ms, sys: 807 µs, total: 12 ms\n",
            "Wall time: 13.9 ms\n"
          ]
        },
        {
          "output_type": "execute_result",
          "data": {
            "text/plain": [
              "333328333350000.0"
            ]
          },
          "metadata": {},
          "execution_count": 7
        }
      ],
      "source": [
        "%%time\n",
        "python_dot_product(list_data, list_data)"
      ]
    },
    {
      "cell_type": "code",
      "execution_count": null,
      "metadata": {
        "id": "e9tNvTwLiXcO",
        "colab": {
          "base_uri": "https://localhost:8080/"
        },
        "outputId": "a4b55ab4-b5de-4570-d92f-ffcfd123dc40"
      },
      "outputs": [
        {
          "output_type": "stream",
          "name": "stdout",
          "text": [
            "CPU times: user 143 µs, sys: 26 µs, total: 169 µs\n",
            "Wall time: 173 µs\n"
          ]
        },
        {
          "output_type": "execute_result",
          "data": {
            "text/plain": [
              "333328333350000.0"
            ]
          },
          "metadata": {},
          "execution_count": 8
        }
      ],
      "source": [
        "%%time\n",
        "fortran_dot_product(array_data, array_data)"
      ]
    },
    {
      "cell_type": "markdown",
      "metadata": {
        "id": "qW-_Q7yuiXcO"
      },
      "source": [
        "<center><img src=\"https://raw.githubusercontent.com/ssanderson/pydata-toolbox/master/notebooks/images/sloth.gif\" alt=\"Drawing\" style=\"width: 1080px;\"/></center>\n"
      ]
    },
    {
      "cell_type": "markdown",
      "source": [
        "**600X100 AND 100x600 MATRICES MULTIPLICATION TIME COMPARISON BETWEEN Numpy, C, C++, JavaScript and Java**"
      ],
      "metadata": {
        "id": "fOK_ephFm2p8"
      }
    },
    {
      "cell_type": "markdown",
      "source": [
        "My own example 13 - NUMPY\n",
        "\n"
      ],
      "metadata": {
        "id": "_ra5WDYERX1e"
      }
    },
    {
      "cell_type": "code",
      "source": [
        "\n",
        "%%time\n",
        "\n",
        "import time\n",
        "py_res  = []\n",
        "for i in range(10):\n",
        "  rand_a = np.random.rand(600, 100)\n",
        "  rand_b = np.random.rand(100, 100)\n",
        "\n",
        "  #print(type(rand_a))\n",
        "  #print(type(and_b))}\n",
        "\n",
        "  start_time = time.time()\n",
        "  np.matmul(rand_a, rand_b)\n",
        "\n",
        "  py_res.append(time.time()-start_time)\n",
        "\n",
        "print('\\n'.join(map(str, py_res)))"
      ],
      "metadata": {
        "id": "4mDURPVKkBDD",
        "colab": {
          "base_uri": "https://localhost:8080/"
        },
        "outputId": "5528c2fe-0596-4564-d6be-0f0cf82d7bcc"
      },
      "execution_count": null,
      "outputs": [
        {
          "output_type": "stream",
          "name": "stdout",
          "text": [
            "0.0031502246856689453\n",
            "0.0007727146148681641\n",
            "0.0008549690246582031\n",
            "0.0008270740509033203\n",
            "0.001585245132446289\n",
            "0.004329681396484375\n",
            "0.0006830692291259766\n",
            "0.0005142688751220703\n",
            "0.005267143249511719\n",
            "0.0006203651428222656\n",
            "CPU times: user 25.4 ms, sys: 17.7 ms, total: 43.1 ms\n",
            "Wall time: 31.7 ms\n"
          ]
        }
      ]
    },
    {
      "cell_type": "markdown",
      "source": [
        "My own example 14 - C"
      ],
      "metadata": {
        "id": "cf5NwQZQRjx-"
      }
    },
    {
      "cell_type": "code",
      "source": [
        "%%writefile matmul.c\n",
        "\n",
        "#include <stdio.h>\n",
        "#include <stdlib.h>\n",
        "#include <time.h>\n",
        "\n",
        "\n",
        "int main(){\n",
        "\n",
        "  int A[600][100];\n",
        "  int B[100][100];\n",
        "  int matC[600][100];\n",
        "\n",
        "  int test;\n",
        "  double c_res[10];\n",
        "  int i, j, k, x, y;\n",
        "  clock_t t, start_time, end_time;\n",
        "  double time_lapsed;\n",
        "  srand((unsigned) time(&t));\n",
        "\n",
        "  for (test = 0; test < 10; test++){\n",
        "    \n",
        "    for (x = 0; x < 600; x++){\n",
        "      for (y = 0; y < 100; y++){\n",
        "        A[x][y] = rand() % 50;\n",
        "      }\n",
        "    }\n",
        "\n",
        "    for (x = 0; x < 100; x++){\n",
        "      for (y = 0; y < 100; y++){\n",
        "        B[x][y] = rand() % 50;\n",
        "      }\n",
        "    }\n",
        "\n",
        "    start_time = clock();\n",
        "\n",
        "    for (i = 0; i < 600; i++){\n",
        "      for (j = 0; j < 100; j++){\n",
        "        matC[i][j] = 0;\n",
        "        for (k = 0; k < 100; k++){\n",
        "          matC[i][j] += A[i][k] * B[k][j];\n",
        "        }\n",
        "      }\n",
        "    }\n",
        "    end_time = clock();\n",
        "    \n",
        "    //int row, columns;\n",
        "    //for (row=0; row<600; row++){\n",
        "    //    for(columns=0; columns<100; columns++)\n",
        "    //    {\n",
        "    //         printf(\"%d     \", A[row][columns]);\n",
        "    //    }\n",
        "    //    printf(\"\\n\");\n",
        "    //}\n",
        "\n",
        "    double time_taken = (((double) (end_time - start_time))/ CLOCKS_PER_SEC ) * 1000; // SEC TO MILISECONDS\n",
        "\n",
        "    printf(\"%f\\n\", time_taken);\n",
        "  }\n",
        "  \n",
        "  \n",
        "  return 0;\n",
        "}\n"
      ],
      "metadata": {
        "id": "S7xtJkrb6yuQ",
        "colab": {
          "base_uri": "https://localhost:8080/"
        },
        "outputId": "252961cf-90a8-4ead-9395-bedcc8bfd669"
      },
      "execution_count": null,
      "outputs": [
        {
          "output_type": "stream",
          "name": "stdout",
          "text": [
            "Overwriting matmul.c\n"
          ]
        }
      ]
    },
    {
      "cell_type": "code",
      "source": [
        "%%time\n",
        "!gcc matmul.c -o matmul\n",
        "!./matmul"
      ],
      "metadata": {
        "colab": {
          "base_uri": "https://localhost:8080/"
        },
        "id": "t6rYo7CKu88F",
        "outputId": "e690827e-6850-48cb-d6eb-963e4e2c7bd6"
      },
      "execution_count": null,
      "outputs": [
        {
          "output_type": "stream",
          "name": "stdout",
          "text": [
            "34.290000\n",
            "34.340000\n",
            "35.930000\n",
            "33.527000\n",
            "33.444000\n",
            "33.926000\n",
            "34.113000\n",
            "35.852000\n",
            "35.974000\n",
            "39.600000\n",
            "CPU times: user 20.2 ms, sys: 11.4 ms, total: 31.6 ms\n",
            "Wall time: 545 ms\n"
          ]
        }
      ]
    },
    {
      "cell_type": "markdown",
      "source": [
        "My own example 15 - C++"
      ],
      "metadata": {
        "id": "5yjoH7W_R0E3"
      }
    },
    {
      "cell_type": "code",
      "source": [
        "%%writefile matmul.c\n",
        "\n",
        "#include <stdio.h>\n",
        "#include <stdlib.h>\n",
        "#include <time.h>\n",
        "\n",
        "\n",
        "int main(){\n",
        "\n",
        "  int A[600][100];\n",
        "  int B[100][100];\n",
        "  int matC[600][100];\n",
        "\n",
        "  int test;\n",
        "  double c_res[10];\n",
        "  int i, j, k, x, y;\n",
        "  clock_t t, start_time, end_time;\n",
        "  double time_lapsed;\n",
        "  srand((unsigned) time(&t));\n",
        "\n",
        "  for (test = 0; test < 10; test++){\n",
        "    \n",
        "    for (x = 0; x < 600; x++){\n",
        "      for (y = 0; y < 100; y++){\n",
        "        A[x][y] = rand() % 50;\n",
        "      }\n",
        "    }\n",
        "\n",
        "    for (x = 0; x < 100; x++){\n",
        "      for (y = 0; y < 100; y++){\n",
        "        B[x][y] = rand() % 50;\n",
        "      }\n",
        "    }\n",
        "\n",
        "    start_time = clock();\n",
        "\n",
        "    for (i = 0; i < 600; i++){\n",
        "      for (j = 0; j < 100; j++){\n",
        "        matC[i][j] = 0;\n",
        "        for (k = 0; k < 100; k++){\n",
        "          matC[i][j] += A[i][k] * B[k][j];\n",
        "        }\n",
        "      }\n",
        "    }\n",
        "    end_time = clock();\n",
        "    \n",
        "    //int row, columns;\n",
        "    //for (row=0; row<600; row++){\n",
        "    //    for(columns=0; columns<100; columns++)\n",
        "    //    {\n",
        "    //         printf(\"%d     \", A[row][columns]);\n",
        "    //    }\n",
        "    //    printf(\"\\n\");\n",
        "    //}\n",
        "\n",
        "    double time_taken = (((double) (end_time - start_time))/ CLOCKS_PER_SEC ) * 1000; // SEC TO MILISECONDS\n",
        "\n",
        "    printf(\"%f\\n\", time_taken);\n",
        "  }\n",
        "  \n",
        "  \n",
        "  return 0;\n",
        "}\n"
      ],
      "metadata": {
        "id": "2-A0QOte603A",
        "colab": {
          "base_uri": "https://localhost:8080/"
        },
        "outputId": "36d3c578-384c-49df-81d1-e81f89438bc0"
      },
      "execution_count": null,
      "outputs": [
        {
          "output_type": "stream",
          "name": "stdout",
          "text": [
            "Writing matmul.cc\n"
          ]
        }
      ]
    },
    {
      "cell_type": "code",
      "source": [
        "%%time\n",
        "!g++ matmul.cc -o matmul\n",
        "!./matmul"
      ],
      "metadata": {
        "colab": {
          "base_uri": "https://localhost:8080/"
        },
        "id": "SECpJOvK07gj",
        "outputId": "7d73e05a-abd4-42cb-98fe-75f1bd67d392"
      },
      "execution_count": null,
      "outputs": [
        {
          "output_type": "stream",
          "name": "stdout",
          "text": [
            "37.643000\n",
            "38.148000\n",
            "39.790000\n",
            "39.145000\n",
            "37.987000\n",
            "37.551000\n",
            "38.303000\n",
            "39.979000\n",
            "46.464000\n",
            "38.040000\n",
            "CPU times: user 15.1 ms, sys: 20.5 ms, total: 35.6 ms\n",
            "Wall time: 639 ms\n"
          ]
        }
      ]
    },
    {
      "cell_type": "markdown",
      "source": [
        "My own example 16 - JAVA"
      ],
      "metadata": {
        "id": "w5hURiGOShpG"
      }
    },
    {
      "cell_type": "code",
      "source": [
        "%%writefile matmul.java\n",
        "\n",
        "import java.lang.Math;\n",
        "\n",
        "class Main{\n",
        "\n",
        "  public static void main(String[] args) {\n",
        "    \n",
        "    long start_time, end_time;\n",
        "    double time_lapsed;\n",
        "\n",
        "    for (int test = 0; test < 10; test ++){\n",
        "      int [][] A = new int[600][100];\n",
        "      int [][] B = new int[100][100];\n",
        "      int [][] matC = new int[600][100];\n",
        "\n",
        "      for (int i = 0; i < 600; i++){\n",
        "        for (int j = 0; j < 100; j++){\n",
        "          A[i][j] = (int)Math.random() % 50;\n",
        "        }\n",
        "      }\n",
        "      \n",
        "      //System.out.println(\"Matrix A done\");\n",
        "\n",
        "      for (int i = 0; i < 100; i++){\n",
        "        for (int j = 0; j < 100; j++){\n",
        "          B[i][j] = (int)Math.random() % 50;\n",
        "        }\n",
        "      }\n",
        "\n",
        "      //System.out.println(\"Matrix B done\");\n",
        "\n",
        "      start_time = System.nanoTime();\n",
        "\n",
        "      for(int i = 0; i < 600; i++){\n",
        "        for (int j = 0; j < 100; j++){\n",
        "          matC[i][j] = 0;\n",
        "          for(int k = 0; k < 100; k++){\n",
        "            matC[i][j] += A[i][k] * B[k][j];\n",
        "          }\n",
        "        }\n",
        "      }\n",
        "\n",
        "      end_time = System.nanoTime();\n",
        "\n",
        "      time_lapsed = (double)(end_time - start_time) / 1000000; //NANOSECONDS TO MILISECONDS\n",
        "\n",
        "      System.out.println(time_lapsed);\n",
        "    }\n",
        "\n",
        "  }\n",
        "}"
      ],
      "metadata": {
        "id": "xCkI1njo62Hv",
        "colab": {
          "base_uri": "https://localhost:8080/"
        },
        "outputId": "d8b00d36-3dab-4d43-80d8-40e282abbf88"
      },
      "execution_count": null,
      "outputs": [
        {
          "output_type": "stream",
          "name": "stdout",
          "text": [
            "Overwriting matmul.java\n"
          ]
        }
      ]
    },
    {
      "cell_type": "code",
      "source": [
        "%%time \n",
        "!javac matmul.java\n",
        "!java Main"
      ],
      "metadata": {
        "colab": {
          "base_uri": "https://localhost:8080/"
        },
        "id": "QRAArRfL4I_Q",
        "outputId": "696cef77-970f-4ee4-9c3a-e6f0db87baab"
      },
      "execution_count": null,
      "outputs": [
        {
          "output_type": "stream",
          "name": "stdout",
          "text": [
            "26.119882\n",
            "42.330177\n",
            "53.858013\n",
            "16.47489\n",
            "16.052497\n",
            "16.326034\n",
            "18.416878\n",
            "16.047263\n",
            "18.970129\n",
            "16.630432\n",
            "CPU times: user 25.6 ms, sys: 18.1 ms, total: 43.7 ms\n",
            "Wall time: 1.44 s\n"
          ]
        }
      ]
    },
    {
      "cell_type": "markdown",
      "source": [
        "My own example 17 - JavaScript"
      ],
      "metadata": {
        "id": "LJOrD7hyYmTJ"
      }
    },
    {
      "cell_type": "code",
      "source": [
        "%%writefile matmul.js\n",
        "\n",
        "const {performance} = require('perf_hooks');\n",
        "\n",
        "for( var p = 0; p < 10; p ++){\n",
        "  var A = generate_matrix(600,100);\n",
        "  var B = generate_matrix(100,100);\n",
        "  var matC = generate_matrix(600,100);\n",
        "\n",
        "  var start_time = performance.now()\n",
        "\n",
        "  for(var i = 0; i < 600; i++){    \n",
        "    for(var j = 0; j < 100; j++){    \n",
        "      matC[i][j] = 0;    \n",
        "      for(var k=0; k < 100; k++){    \n",
        "        matC[i][j] += A[i][k] * B[k][j];    \n",
        "      }    \n",
        "    }    \n",
        "  }\n",
        "\n",
        "  var end_time = performance.now()\n",
        "\n",
        "  console.log((end_time - start_time))\n",
        "\n",
        "}\n",
        "\n",
        "function generate_matrix(m,n){\n",
        "\n",
        "  var tmp = new Array(m);\n",
        "  for (var i = 0; i < m; i++) {\n",
        "    tmp[i] = new Array(n);\n",
        "  }   \n",
        "\n",
        "  for (var i = 0; i < m; i++) {\n",
        "    for (var j = 0; j < n; j++) {\n",
        "      tmp[i][j] = Math.floor(Math.random() * 10);\n",
        "    }\n",
        "  }\n",
        "\n",
        "  return tmp;\n",
        "}"
      ],
      "metadata": {
        "id": "hmBeCMGV63z6",
        "colab": {
          "base_uri": "https://localhost:8080/"
        },
        "outputId": "c5a05281-6083-4eec-855c-df1de3c3035a"
      },
      "execution_count": null,
      "outputs": [
        {
          "output_type": "stream",
          "name": "stdout",
          "text": [
            "Overwriting matmul.js\n"
          ]
        }
      ]
    },
    {
      "cell_type": "code",
      "source": [
        "%%time \n",
        "!node matmul.js"
      ],
      "metadata": {
        "colab": {
          "base_uri": "https://localhost:8080/"
        },
        "id": "Fu5CUVz09YRX",
        "outputId": "3e336101-119b-44d9-8873-e835ecbd2bd4"
      },
      "execution_count": null,
      "outputs": [
        {
          "output_type": "stream",
          "name": "stdout",
          "text": [
            "\u001b[33m62.847691997885704\u001b[39m\n",
            "\u001b[33m62.282313000410795\u001b[39m\n",
            "\u001b[33m42.384970001876354\u001b[39m\n",
            "\u001b[33m41.652304999530315\u001b[39m\n",
            "\u001b[33m42.008623000234365\u001b[39m\n",
            "\u001b[33m42.019659999758005\u001b[39m\n",
            "\u001b[33m46.95719499886036\u001b[39m\n",
            "\u001b[33m46.757679000496864\u001b[39m\n",
            "\u001b[33m42.2662380002439\u001b[39m\n",
            "\u001b[33m43.01972199976444\u001b[39m\n",
            "CPU times: user 13.6 ms, sys: 10.1 ms, total: 23.7 ms\n",
            "Wall time: 620 ms\n"
          ]
        }
      ]
    },
    {
      "cell_type": "markdown",
      "source": [
        "MEASURING AVERAGE TIMES WITH PANDAS"
      ],
      "metadata": {
        "id": "aGDgeHMODVZT"
      }
    },
    {
      "cell_type": "code",
      "source": [
        "import pandas as pd"
      ],
      "metadata": {
        "id": "pgl-krBaDc97"
      },
      "execution_count": null,
      "outputs": []
    },
    {
      "cell_type": "code",
      "source": [
        "# times[0] => JavaScript\n",
        "# times[1] => Java\n",
        "# times[2] => C++\n",
        "# times[3] => C\n",
        "# times[4] => Numpy\n",
        "\n",
        "times_raw = [\n",
        "    [62.847691997885704, 62.282313000410795, 42.384970001876354, 41.652304999530315, 42.008623000234365, 42.019659999758005, 46.95719499886036, 46.757679000496864,42.2662380002439, 43.01972199976444],\n",
        "    [26.119882, 42.330177, 53.858013, 16.47489, 16.052497, 16.326034, 18.416878, 16.047263, 18.970129, 16.630432],\n",
        "    [37.643000, 38.148000, 39.790000, 39.145000, 37.987000, 37.551000, 38.303000, 39.979000, 46.464000, 38.040000],\n",
        "    [34.290000, 34.340000, 35.930000, 33.527000, 33.444000, 33.926000, 34.113000, 35.852000, 35.974000, 39.600000],\n",
        "    [0.00706791877746582, 0.0006930828094482422, 0.0005328655242919922, 0.0007984638214111328, 0.0009846687316894531, 0.0005669593811035156, 0.0005166530609130859, 0.0006117820739746094, 0.0007305145263671875, 0.0005662441253662109]\n",
        "]\n"
      ],
      "metadata": {
        "id": "BtJo7IkgDfkY"
      },
      "execution_count": null,
      "outputs": []
    },
    {
      "cell_type": "code",
      "source": [
        "times = pd.DataFrame(times_raw)\n",
        "times = times.T\n",
        "times.columns = [\"JavaScript\", \"Java\", \"C++\", \"C\", \"NumPy\"]\n",
        "times"
      ],
      "metadata": {
        "colab": {
          "base_uri": "https://localhost:8080/",
          "height": 363
        },
        "id": "2X7qci1ME2M4",
        "outputId": "ec672b69-b149-4701-8447-8b966d1ce265"
      },
      "execution_count": null,
      "outputs": [
        {
          "output_type": "execute_result",
          "data": {
            "text/plain": [
              "   JavaScript       Java     C++       C     NumPy\n",
              "0   62.847692  26.119882  37.643  34.290  0.007068\n",
              "1   62.282313  42.330177  38.148  34.340  0.000693\n",
              "2   42.384970  53.858013  39.790  35.930  0.000533\n",
              "3   41.652305  16.474890  39.145  33.527  0.000798\n",
              "4   42.008623  16.052497  37.987  33.444  0.000985\n",
              "5   42.019660  16.326034  37.551  33.926  0.000567\n",
              "6   46.957195  18.416878  38.303  34.113  0.000517\n",
              "7   46.757679  16.047263  39.979  35.852  0.000612\n",
              "8   42.266238  18.970129  46.464  35.974  0.000731\n",
              "9   43.019722  16.630432  38.040  39.600  0.000566"
            ],
            "text/html": [
              "\n",
              "  <div id=\"df-1af6ad50-c04a-46a3-af30-800eae13064a\">\n",
              "    <div class=\"colab-df-container\">\n",
              "      <div>\n",
              "<style scoped>\n",
              "    .dataframe tbody tr th:only-of-type {\n",
              "        vertical-align: middle;\n",
              "    }\n",
              "\n",
              "    .dataframe tbody tr th {\n",
              "        vertical-align: top;\n",
              "    }\n",
              "\n",
              "    .dataframe thead th {\n",
              "        text-align: right;\n",
              "    }\n",
              "</style>\n",
              "<table border=\"1\" class=\"dataframe\">\n",
              "  <thead>\n",
              "    <tr style=\"text-align: right;\">\n",
              "      <th></th>\n",
              "      <th>JavaScript</th>\n",
              "      <th>Java</th>\n",
              "      <th>C++</th>\n",
              "      <th>C</th>\n",
              "      <th>NumPy</th>\n",
              "    </tr>\n",
              "  </thead>\n",
              "  <tbody>\n",
              "    <tr>\n",
              "      <th>0</th>\n",
              "      <td>62.847692</td>\n",
              "      <td>26.119882</td>\n",
              "      <td>37.643</td>\n",
              "      <td>34.290</td>\n",
              "      <td>0.007068</td>\n",
              "    </tr>\n",
              "    <tr>\n",
              "      <th>1</th>\n",
              "      <td>62.282313</td>\n",
              "      <td>42.330177</td>\n",
              "      <td>38.148</td>\n",
              "      <td>34.340</td>\n",
              "      <td>0.000693</td>\n",
              "    </tr>\n",
              "    <tr>\n",
              "      <th>2</th>\n",
              "      <td>42.384970</td>\n",
              "      <td>53.858013</td>\n",
              "      <td>39.790</td>\n",
              "      <td>35.930</td>\n",
              "      <td>0.000533</td>\n",
              "    </tr>\n",
              "    <tr>\n",
              "      <th>3</th>\n",
              "      <td>41.652305</td>\n",
              "      <td>16.474890</td>\n",
              "      <td>39.145</td>\n",
              "      <td>33.527</td>\n",
              "      <td>0.000798</td>\n",
              "    </tr>\n",
              "    <tr>\n",
              "      <th>4</th>\n",
              "      <td>42.008623</td>\n",
              "      <td>16.052497</td>\n",
              "      <td>37.987</td>\n",
              "      <td>33.444</td>\n",
              "      <td>0.000985</td>\n",
              "    </tr>\n",
              "    <tr>\n",
              "      <th>5</th>\n",
              "      <td>42.019660</td>\n",
              "      <td>16.326034</td>\n",
              "      <td>37.551</td>\n",
              "      <td>33.926</td>\n",
              "      <td>0.000567</td>\n",
              "    </tr>\n",
              "    <tr>\n",
              "      <th>6</th>\n",
              "      <td>46.957195</td>\n",
              "      <td>18.416878</td>\n",
              "      <td>38.303</td>\n",
              "      <td>34.113</td>\n",
              "      <td>0.000517</td>\n",
              "    </tr>\n",
              "    <tr>\n",
              "      <th>7</th>\n",
              "      <td>46.757679</td>\n",
              "      <td>16.047263</td>\n",
              "      <td>39.979</td>\n",
              "      <td>35.852</td>\n",
              "      <td>0.000612</td>\n",
              "    </tr>\n",
              "    <tr>\n",
              "      <th>8</th>\n",
              "      <td>42.266238</td>\n",
              "      <td>18.970129</td>\n",
              "      <td>46.464</td>\n",
              "      <td>35.974</td>\n",
              "      <td>0.000731</td>\n",
              "    </tr>\n",
              "    <tr>\n",
              "      <th>9</th>\n",
              "      <td>43.019722</td>\n",
              "      <td>16.630432</td>\n",
              "      <td>38.040</td>\n",
              "      <td>39.600</td>\n",
              "      <td>0.000566</td>\n",
              "    </tr>\n",
              "  </tbody>\n",
              "</table>\n",
              "</div>\n",
              "      <button class=\"colab-df-convert\" onclick=\"convertToInteractive('df-1af6ad50-c04a-46a3-af30-800eae13064a')\"\n",
              "              title=\"Convert this dataframe to an interactive table.\"\n",
              "              style=\"display:none;\">\n",
              "        \n",
              "  <svg xmlns=\"http://www.w3.org/2000/svg\" height=\"24px\"viewBox=\"0 0 24 24\"\n",
              "       width=\"24px\">\n",
              "    <path d=\"M0 0h24v24H0V0z\" fill=\"none\"/>\n",
              "    <path d=\"M18.56 5.44l.94 2.06.94-2.06 2.06-.94-2.06-.94-.94-2.06-.94 2.06-2.06.94zm-11 1L8.5 8.5l.94-2.06 2.06-.94-2.06-.94L8.5 2.5l-.94 2.06-2.06.94zm10 10l.94 2.06.94-2.06 2.06-.94-2.06-.94-.94-2.06-.94 2.06-2.06.94z\"/><path d=\"M17.41 7.96l-1.37-1.37c-.4-.4-.92-.59-1.43-.59-.52 0-1.04.2-1.43.59L10.3 9.45l-7.72 7.72c-.78.78-.78 2.05 0 2.83L4 21.41c.39.39.9.59 1.41.59.51 0 1.02-.2 1.41-.59l7.78-7.78 2.81-2.81c.8-.78.8-2.07 0-2.86zM5.41 20L4 18.59l7.72-7.72 1.47 1.35L5.41 20z\"/>\n",
              "  </svg>\n",
              "      </button>\n",
              "      \n",
              "  <style>\n",
              "    .colab-df-container {\n",
              "      display:flex;\n",
              "      flex-wrap:wrap;\n",
              "      gap: 12px;\n",
              "    }\n",
              "\n",
              "    .colab-df-convert {\n",
              "      background-color: #E8F0FE;\n",
              "      border: none;\n",
              "      border-radius: 50%;\n",
              "      cursor: pointer;\n",
              "      display: none;\n",
              "      fill: #1967D2;\n",
              "      height: 32px;\n",
              "      padding: 0 0 0 0;\n",
              "      width: 32px;\n",
              "    }\n",
              "\n",
              "    .colab-df-convert:hover {\n",
              "      background-color: #E2EBFA;\n",
              "      box-shadow: 0px 1px 2px rgba(60, 64, 67, 0.3), 0px 1px 3px 1px rgba(60, 64, 67, 0.15);\n",
              "      fill: #174EA6;\n",
              "    }\n",
              "\n",
              "    [theme=dark] .colab-df-convert {\n",
              "      background-color: #3B4455;\n",
              "      fill: #D2E3FC;\n",
              "    }\n",
              "\n",
              "    [theme=dark] .colab-df-convert:hover {\n",
              "      background-color: #434B5C;\n",
              "      box-shadow: 0px 1px 3px 1px rgba(0, 0, 0, 0.15);\n",
              "      filter: drop-shadow(0px 1px 2px rgba(0, 0, 0, 0.3));\n",
              "      fill: #FFFFFF;\n",
              "    }\n",
              "  </style>\n",
              "\n",
              "      <script>\n",
              "        const buttonEl =\n",
              "          document.querySelector('#df-1af6ad50-c04a-46a3-af30-800eae13064a button.colab-df-convert');\n",
              "        buttonEl.style.display =\n",
              "          google.colab.kernel.accessAllowed ? 'block' : 'none';\n",
              "\n",
              "        async function convertToInteractive(key) {\n",
              "          const element = document.querySelector('#df-1af6ad50-c04a-46a3-af30-800eae13064a');\n",
              "          const dataTable =\n",
              "            await google.colab.kernel.invokeFunction('convertToInteractive',\n",
              "                                                     [key], {});\n",
              "          if (!dataTable) return;\n",
              "\n",
              "          const docLinkHtml = 'Like what you see? Visit the ' +\n",
              "            '<a target=\"_blank\" href=https://colab.research.google.com/notebooks/data_table.ipynb>data table notebook</a>'\n",
              "            + ' to learn more about interactive tables.';\n",
              "          element.innerHTML = '';\n",
              "          dataTable['output_type'] = 'display_data';\n",
              "          await google.colab.output.renderOutput(dataTable, element);\n",
              "          const docLink = document.createElement('div');\n",
              "          docLink.innerHTML = docLinkHtml;\n",
              "          element.appendChild(docLink);\n",
              "        }\n",
              "      </script>\n",
              "    </div>\n",
              "  </div>\n",
              "  "
            ]
          },
          "metadata": {},
          "execution_count": 221
        }
      ]
    },
    {
      "cell_type": "code",
      "source": [
        "res = times[[\"JavaScript\", \"Java\", \"C++\", \"C\", \"NumPy\"]].mean()\n",
        "res"
      ],
      "metadata": {
        "colab": {
          "base_uri": "https://localhost:8080/"
        },
        "id": "_fwEIPMZFs8N",
        "outputId": "7b4a97e4-70ec-445d-80e9-a0ee6333524f"
      },
      "execution_count": null,
      "outputs": [
        {
          "output_type": "execute_result",
          "data": {
            "text/plain": [
              "JavaScript    47.219640\n",
              "Java          24.122619\n",
              "C++           39.305000\n",
              "C             35.099600\n",
              "NumPy          0.001307\n",
              "dtype: float64"
            ]
          },
          "metadata": {},
          "execution_count": 226
        }
      ]
    },
    {
      "cell_type": "markdown",
      "source": [
        "Sorting Values From Lesser to Greater"
      ],
      "metadata": {
        "id": "CjiN21fvdRch"
      }
    },
    {
      "cell_type": "code",
      "source": [
        "res.sort_values(ascending=True)"
      ],
      "metadata": {
        "colab": {
          "base_uri": "https://localhost:8080/"
        },
        "id": "H9Xme1K0GXVd",
        "outputId": "325fc8db-642b-4751-f316-862224d9dbc3"
      },
      "execution_count": null,
      "outputs": [
        {
          "output_type": "execute_result",
          "data": {
            "text/plain": [
              "NumPy          0.001307\n",
              "Java          24.122619\n",
              "C             35.099600\n",
              "C++           39.305000\n",
              "JavaScript    47.219640\n",
              "dtype: float64"
            ]
          },
          "metadata": {},
          "execution_count": 227
        }
      ]
    },
    {
      "cell_type": "code",
      "source": [],
      "metadata": {
        "id": "d8eiDHB0GpBF"
      },
      "execution_count": null,
      "outputs": []
    },
    {
      "cell_type": "markdown",
      "metadata": {
        "id": "5RlZ-kCGiXcO"
      },
      "source": [
        "## Why is the Python Version so Much Slower?"
      ]
    },
    {
      "cell_type": "code",
      "execution_count": null,
      "metadata": {
        "id": "rWOUuY4QiXcP"
      },
      "outputs": [],
      "source": [
        "# Dynamic typing.\n",
        "def mul_elemwise(xs, ys):\n",
        "    return [x * y for x, y in zip(xs, ys)]\n",
        "\n",
        "mul_elemwise([1, 2, 3, 4], [1, 2 + 0j, 3.0, 'four'])\n",
        "#[type(x) for x in _]"
      ]
    },
    {
      "cell_type": "code",
      "execution_count": null,
      "metadata": {
        "id": "cW0Jexk6iXcP"
      },
      "outputs": [],
      "source": [
        "# Interpretation overhead.\n",
        "source_code = 'a + b * c'\n",
        "bytecode = compile(source_code, '', 'eval')\n",
        "import dis; dis.dis(bytecode)"
      ]
    },
    {
      "cell_type": "markdown",
      "metadata": {
        "id": "BdvCAketiXcP"
      },
      "source": [
        "## Why is the Python Version so Slow?\n",
        "- Dynamic typing means that every single operation requires dispatching on the input type.\n",
        "- Having an interpreter means that every instruction is fetched and dispatched at runtime.\n",
        "- Other overheads:\n",
        "  - Arbitrary-size integers.\n",
        "  - Reference-counted garbage collection."
      ]
    },
    {
      "cell_type": "markdown",
      "metadata": {
        "id": "zvFKYtobiXcP"
      },
      "source": [
        "> This is the paradox that we have to work with when we're doing scientific or numerically-intensive Python. What makes Python fast for development -- this high-level, interpreted, and dynamically-typed aspect of the language -- is exactly what makes it slow for code execution.\n",
        "\n",
        "- Jake VanderPlas, [*Losing Your Loops: Fast Numerical Computing with NumPy*](https://www.youtube.com/watch?v=EEUXKG97YRw)"
      ]
    },
    {
      "cell_type": "markdown",
      "metadata": {
        "id": "UqE431pkiXcP"
      },
      "source": [
        "# What Do We Do?"
      ]
    },
    {
      "cell_type": "markdown",
      "metadata": {
        "id": "4uh7h3HyiXcP"
      },
      "source": [
        "<center><img src=\"https://raw.githubusercontent.com/ssanderson/pydata-toolbox/master/notebooks/images/runaway.gif\" alt=\"Drawing\" style=\"width: 50%;\"/></center>"
      ]
    },
    {
      "cell_type": "markdown",
      "metadata": {
        "id": "-9z62YT1iXcP"
      },
      "source": [
        "<center><img src=\"https://raw.githubusercontent.com/ssanderson/pydata-toolbox/master/notebooks/images/thisisfine.gif\" alt=\"Drawing\" style=\"width: 1080px;\"/></center>"
      ]
    },
    {
      "cell_type": "markdown",
      "metadata": {
        "id": "0Moc6UrkiXcQ"
      },
      "source": [
        "- Python is slow for numerical computation because it performs dynamic dispatch on every operation we perform..."
      ]
    },
    {
      "cell_type": "markdown",
      "metadata": {
        "collapsed": true,
        "id": "U4gN8tp2iXcQ"
      },
      "source": [
        "- ...but often, we just want to do the same thing over and over in a loop!"
      ]
    },
    {
      "cell_type": "markdown",
      "metadata": {
        "id": "Yu0ySyEhiXcQ"
      },
      "source": [
        "- If we don't need Python's dynamicism, we don't want to pay (much) for it."
      ]
    },
    {
      "cell_type": "markdown",
      "metadata": {
        "id": "KUwG9isRiXcQ"
      },
      "source": [
        "- **Idea:** Dispatch **once per operation** instead of **once per element**."
      ]
    },
    {
      "cell_type": "code",
      "execution_count": null,
      "metadata": {
        "id": "62itImahiXcQ"
      },
      "outputs": [],
      "source": [
        "import numpy as np\n",
        "\n",
        "data = np.array([1, 2, 3, 4])\n",
        "data"
      ]
    },
    {
      "cell_type": "code",
      "execution_count": null,
      "metadata": {
        "id": "q6qikr_tiXcQ"
      },
      "outputs": [],
      "source": [
        "data + data"
      ]
    },
    {
      "cell_type": "code",
      "execution_count": null,
      "metadata": {
        "id": "26QlWUw8iXcQ"
      },
      "outputs": [],
      "source": [
        "%%time\n",
        "# Naive dot product\n",
        "(array_data * array_data).sum()"
      ]
    },
    {
      "cell_type": "code",
      "execution_count": null,
      "metadata": {
        "id": "xoigDrpEiXcQ"
      },
      "outputs": [],
      "source": [
        "%%time\n",
        "# Built-in dot product.\n",
        "array_data.dot(array_data)"
      ]
    },
    {
      "cell_type": "code",
      "execution_count": null,
      "metadata": {
        "id": "tcewetQ0iXcR"
      },
      "outputs": [],
      "source": [
        "%%time\n",
        "fortran_dot_product(array_data, array_data)"
      ]
    },
    {
      "cell_type": "code",
      "execution_count": null,
      "metadata": {
        "id": "Whkcgo1xiXcR"
      },
      "outputs": [],
      "source": [
        "# Numpy won't allow us to write a string into an int array.\n",
        "data[0] = \"foo\""
      ]
    },
    {
      "cell_type": "code",
      "execution_count": null,
      "metadata": {
        "collapsed": true,
        "id": "OM_YUwF0iXcR"
      },
      "outputs": [],
      "source": [
        "# We also can't grow an array once it's created.\n",
        "data.append(3)"
      ]
    },
    {
      "cell_type": "code",
      "execution_count": null,
      "metadata": {
        "collapsed": true,
        "id": "_ByTInO5iXcR"
      },
      "outputs": [],
      "source": [
        "# We **can** reshape an array though.\n",
        "two_by_two = data.reshape(2, 2)\n",
        "two_by_two"
      ]
    },
    {
      "cell_type": "markdown",
      "metadata": {
        "id": "rqUM9z90iXcR"
      },
      "source": [
        "Numpy arrays are:\n",
        "\n",
        "- Fixed-type"
      ]
    },
    {
      "cell_type": "markdown",
      "metadata": {
        "id": "xI5M1gzviXcR"
      },
      "source": [
        "- Size-immutable"
      ]
    },
    {
      "cell_type": "markdown",
      "metadata": {
        "id": "Xb7Dkl2tiXcS"
      },
      "source": [
        "- Multi-dimensional"
      ]
    },
    {
      "cell_type": "markdown",
      "metadata": {
        "id": "r0oMRqQXiXcS"
      },
      "source": [
        "- Fast\\*"
      ]
    },
    {
      "cell_type": "markdown",
      "metadata": {
        "id": "kz1MurDBiXcS"
      },
      "source": [
        "\\* If you use them correctly."
      ]
    },
    {
      "cell_type": "markdown",
      "metadata": {
        "id": "Qivn_IZOiXcS"
      },
      "source": [
        "# What's in an Array?"
      ]
    },
    {
      "cell_type": "code",
      "execution_count": null,
      "metadata": {
        "id": "vAuc9ZoYiXcS"
      },
      "outputs": [],
      "source": [
        "arr = np.array([1, 2, 3, 4, 5, 6], dtype='int16').reshape(2, 3)\n",
        "print(\"Array:\\n\", arr, sep='')\n",
        "print(\"===========\")\n",
        "print(\"DType:\", arr.dtype)\n",
        "print(\"Shape:\", arr.shape)\n",
        "print(\"Strides:\", arr.strides)\n",
        "print(\"Data:\", arr.data.tobytes())"
      ]
    },
    {
      "cell_type": "markdown",
      "metadata": {
        "id": "K81LXWsCiXcS"
      },
      "source": [
        "# Core Operations\n",
        "\n",
        "- Vectorized **ufuncs** for elementwise operations.\n",
        "- Fancy indexing and masking for selection and filtering.\n",
        "- Aggregations across axes.\n",
        "- Broadcasting"
      ]
    },
    {
      "cell_type": "markdown",
      "metadata": {
        "id": "kwVm_T0UiXcS"
      },
      "source": [
        "# UFuncs\n",
        "\n",
        "UFuncs (universal functions) are functions that operate elementwise on one or more arrays."
      ]
    },
    {
      "cell_type": "code",
      "execution_count": null,
      "metadata": {
        "id": "bltDIE9jiXcS"
      },
      "outputs": [],
      "source": [
        "data = np.arange(15).reshape(3, 5)\n",
        "data"
      ]
    },
    {
      "cell_type": "code",
      "execution_count": null,
      "metadata": {
        "id": "STwE0VCpiXcT"
      },
      "outputs": [],
      "source": [
        "# Binary operators.\n",
        "data * data"
      ]
    },
    {
      "cell_type": "code",
      "execution_count": null,
      "metadata": {
        "id": "N__jqMifiXcT"
      },
      "outputs": [],
      "source": [
        "# Unary functions.\n",
        "np.sqrt(data)"
      ]
    },
    {
      "cell_type": "code",
      "execution_count": null,
      "metadata": {
        "id": "j-2fPm3LiXcT"
      },
      "outputs": [],
      "source": [
        "# Comparison operations\n",
        "(data % 3) == 0"
      ]
    },
    {
      "cell_type": "code",
      "execution_count": null,
      "metadata": {
        "id": "iDUXVIuhiXcT"
      },
      "outputs": [],
      "source": [
        "# Boolean combinators.\n",
        "((data % 2) == 0) & ((data % 3) == 0)"
      ]
    },
    {
      "cell_type": "code",
      "execution_count": null,
      "metadata": {
        "id": "f2FWSuiJiXcT"
      },
      "outputs": [],
      "source": [
        "# as of python 3.5, @ is matrix-multiply\n",
        "data @ data.T"
      ]
    },
    {
      "cell_type": "markdown",
      "metadata": {
        "id": "9EsiKbSCiXcT"
      },
      "source": [
        "# UFuncs Review\n",
        "\n",
        "- UFuncs provide efficient elementwise operations applied across one or more arrays.\n",
        "- Arithmetic Operators (`+`, `*`, `/`)\n",
        "- Comparisons (`==`, `>`, `!=`)\n",
        "- Boolean Operators (`&`, `|`, `^`)\n",
        "- Trigonometric Functions (`sin`, `cos`)\n",
        "- Transcendental Functions (`exp`, `log`)"
      ]
    },
    {
      "cell_type": "markdown",
      "metadata": {
        "id": "GGLCgF20iXcU"
      },
      "source": [
        "# Selections"
      ]
    },
    {
      "cell_type": "markdown",
      "metadata": {
        "id": "3SAH9am8iXcU"
      },
      "source": [
        "We often want to perform an operation on just a subset of our data."
      ]
    },
    {
      "cell_type": "code",
      "execution_count": null,
      "metadata": {
        "id": "AWmtLHYwiXcU"
      },
      "outputs": [],
      "source": [
        "sines = np.sin(np.linspace(0, 3.14, 10))\n",
        "cosines = np.cos(np.linspace(0, 3.14, 10))\n",
        "sines"
      ]
    },
    {
      "cell_type": "code",
      "execution_count": null,
      "metadata": {
        "id": "u8LHY0j9iXcU"
      },
      "outputs": [],
      "source": [
        "# Slicing works with the same semantics as Python lists.\n",
        "sines[0]"
      ]
    },
    {
      "cell_type": "code",
      "execution_count": null,
      "metadata": {
        "id": "hh6dTObciXcU"
      },
      "outputs": [],
      "source": [
        "sines[:3]  # First three elements  "
      ]
    },
    {
      "cell_type": "code",
      "execution_count": null,
      "metadata": {
        "id": "rqB_uVABiXcU"
      },
      "outputs": [],
      "source": [
        "sines[5:]  # Elements from 5 on."
      ]
    },
    {
      "cell_type": "code",
      "execution_count": null,
      "metadata": {
        "id": "j2KDBhZaiXcU"
      },
      "outputs": [],
      "source": [
        "sines[::2]  # Every other element."
      ]
    },
    {
      "cell_type": "code",
      "execution_count": null,
      "metadata": {
        "id": "lR7JjjhjiXcV"
      },
      "outputs": [],
      "source": [
        "# More interesting: we can index with boolean arrays to filter by a predicate.\n",
        "print(\"sines:\\n\", sines)\n",
        "print(\"sines > 0.5:\\n\", sines > 0.5)\n",
        "print(\"sines[sines > 0.5]:\\n\", sines[sines > 0.5])"
      ]
    },
    {
      "cell_type": "code",
      "execution_count": null,
      "metadata": {
        "id": "gORuDL3RiXcV"
      },
      "outputs": [],
      "source": [
        "# We index with lists/arrays of integers to select values at those indices.\n",
        "print(sines)\n",
        "sines[[0, 4, 7]]"
      ]
    },
    {
      "cell_type": "code",
      "execution_count": null,
      "metadata": {
        "collapsed": true,
        "id": "Gu2vDHNgiXcV"
      },
      "outputs": [],
      "source": [
        "# Index arrays are often used for sorting one or more arrays.\n",
        "unsorted_data = np.array([1, 3, 2, 12, -1, 5, 2])"
      ]
    },
    {
      "cell_type": "code",
      "execution_count": null,
      "metadata": {
        "id": "uroIWxu1iXcV"
      },
      "outputs": [],
      "source": [
        "sort_indices = np.argsort(unsorted_data)\n",
        "sort_indices"
      ]
    },
    {
      "cell_type": "code",
      "execution_count": null,
      "metadata": {
        "id": "igwLM_b1iXcV"
      },
      "outputs": [],
      "source": [
        "unsorted_data[sort_indices]"
      ]
    },
    {
      "cell_type": "code",
      "execution_count": null,
      "metadata": {
        "collapsed": true,
        "id": "7IRVEVvdiXcV"
      },
      "outputs": [],
      "source": [
        "market_caps = np.array([12, 6, 10, 5, 6])  # Presumably in dollars?\n",
        "assets = np.array(['A', 'B', 'C', 'D', 'E'])"
      ]
    },
    {
      "cell_type": "code",
      "execution_count": null,
      "metadata": {
        "id": "jE8KVrn9iXcV"
      },
      "outputs": [],
      "source": [
        "# Sort assets by market cap by using the permutation that would sort market caps on ``assets``.\n",
        "sort_by_mcap = np.argsort(market_caps)\n",
        "assets[sort_by_mcap]"
      ]
    },
    {
      "cell_type": "code",
      "execution_count": null,
      "metadata": {
        "scrolled": true,
        "id": "jaGW-7fTiXcW"
      },
      "outputs": [],
      "source": [
        "# Indexers are also useful for aligning data.\n",
        "print(\"Dates:\\n\", repr(event_dates))\n",
        "print(\"Values:\\n\", repr(event_values))\n",
        "print(\"Calendar:\\n\", repr(calendar))"
      ]
    },
    {
      "cell_type": "code",
      "execution_count": null,
      "metadata": {
        "id": "Uo28AVcTiXcW"
      },
      "outputs": [],
      "source": [
        "print(\"Raw Dates:\", event_dates)\n",
        "print(\"Indices:\", calendar.searchsorted(event_dates))\n",
        "print(\"Forward-Filled Dates:\", calendar[calendar.searchsorted(event_dates)])"
      ]
    },
    {
      "cell_type": "markdown",
      "metadata": {
        "id": "oDEVEEOriXcW"
      },
      "source": [
        "On multi-dimensional arrays, we can slice along each axis independently."
      ]
    },
    {
      "cell_type": "code",
      "execution_count": null,
      "metadata": {
        "id": "prPSgZhniXcW"
      },
      "outputs": [],
      "source": [
        "data = np.arange(25).reshape(5, 5)\n",
        "data"
      ]
    },
    {
      "cell_type": "code",
      "execution_count": null,
      "metadata": {
        "id": "KAulAQ2yiXcW"
      },
      "outputs": [],
      "source": [
        "data[:2, :2]  # First two rows and first two columns."
      ]
    },
    {
      "cell_type": "code",
      "execution_count": null,
      "metadata": {
        "id": "f9_S0RcdiXcW"
      },
      "outputs": [],
      "source": [
        "data[:2, [0, -1]]  # First two rows, first and last columns."
      ]
    },
    {
      "cell_type": "code",
      "execution_count": null,
      "metadata": {
        "id": "rre5hGs9iXcW"
      },
      "outputs": [],
      "source": [
        "data[(data[:, 0] % 2) == 0]  # Rows where the first column is divisible by two."
      ]
    },
    {
      "cell_type": "markdown",
      "metadata": {
        "id": "zl1zYEQgiXcX"
      },
      "source": [
        "# Selections Review\n",
        "\n",
        "- Indexing with an integer removes a dimension.\n",
        "- Slicing operations work on Numpy arrays the same way they do on lists.\n",
        "- Indexing with a boolean array filters to True locations.\n",
        "- Indexing with an integer array selects indices along an axis.\n",
        "- Multidimensional arrays can apply selections independently along different axes."
      ]
    },
    {
      "cell_type": "markdown",
      "metadata": {
        "id": "0tDspA_KiXcX"
      },
      "source": [
        "## Reductions\n",
        "\n",
        "Functions that reduce an array to a scalar."
      ]
    },
    {
      "cell_type": "markdown",
      "metadata": {
        "id": "1s42E1qCiXcX"
      },
      "source": [
        "$Var(X) = \\frac{1}{N}\\sqrt{\\sum_{i=1}^N (x_i - \\bar{x})^2}$"
      ]
    },
    {
      "cell_type": "code",
      "execution_count": null,
      "metadata": {
        "collapsed": true,
        "id": "pkjccK94iXcX"
      },
      "outputs": [],
      "source": [
        "def variance(x):\n",
        "    return ((x - x.mean()) ** 2).sum() / len(x)"
      ]
    },
    {
      "cell_type": "code",
      "execution_count": null,
      "metadata": {
        "id": "jqiZV_FMiXcX"
      },
      "outputs": [],
      "source": [
        "variance(np.random.standard_normal(1000))"
      ]
    },
    {
      "cell_type": "markdown",
      "metadata": {
        "id": "WHVBON1qiXcX"
      },
      "source": [
        "- `sum()` and `mean()` are both **reductions**."
      ]
    },
    {
      "cell_type": "markdown",
      "metadata": {
        "id": "w7gh4_vmiXcX"
      },
      "source": [
        "- In the simplest case, we use these to reduce an entire array into a single value..."
      ]
    },
    {
      "cell_type": "code",
      "execution_count": null,
      "metadata": {
        "id": "Hxr-Py7ciXcY"
      },
      "outputs": [],
      "source": [
        "data = np.arange(30)\n",
        "data.mean()"
      ]
    },
    {
      "cell_type": "markdown",
      "metadata": {
        "id": "M1mqf-RfiXcY"
      },
      "source": [
        "- ...but we can do more interesting things with multi-dimensional arrays."
      ]
    },
    {
      "cell_type": "code",
      "execution_count": null,
      "metadata": {
        "id": "okW92XNriXcY"
      },
      "outputs": [],
      "source": [
        "data = np.arange(30).reshape(3, 10)\n",
        "data"
      ]
    },
    {
      "cell_type": "code",
      "execution_count": null,
      "metadata": {
        "id": "_DwCYNHQiXcY"
      },
      "outputs": [],
      "source": [
        "data.mean()"
      ]
    },
    {
      "cell_type": "code",
      "execution_count": null,
      "metadata": {
        "id": "Z7S6mpm3iXcY"
      },
      "outputs": [],
      "source": [
        "data.mean(axis=0)"
      ]
    },
    {
      "cell_type": "code",
      "execution_count": null,
      "metadata": {
        "id": "g-DOKtM4iXcY"
      },
      "outputs": [],
      "source": [
        "data.mean(axis=1)"
      ]
    },
    {
      "cell_type": "markdown",
      "metadata": {
        "id": "zsIEVqkgiXcY"
      },
      "source": [
        "## Reductions Review\n",
        "\n",
        "- Reductions allow us to perform efficient aggregations over arrays.\n",
        "- We can do aggregations over a single axis to collapse a single dimension.\n",
        "- Many built-in reductions (`mean`, `sum`, `min`, `max`, `median`, ...)."
      ]
    },
    {
      "cell_type": "markdown",
      "metadata": {
        "id": "hvqRiy2qiXcZ"
      },
      "source": [
        "# Broadcasting"
      ]
    },
    {
      "cell_type": "code",
      "execution_count": null,
      "metadata": {
        "id": "OyIDakdiiXcZ"
      },
      "outputs": [],
      "source": [
        "row = np.array([1, 2, 3, 4])\n",
        "column = np.array([[1], [2], [3]])\n",
        "print(\"Row:\\n\", row, sep='')\n",
        "print(\"Column:\\n\", column, sep='')"
      ]
    },
    {
      "cell_type": "code",
      "execution_count": null,
      "metadata": {
        "id": "Dej4wsX-iXcZ"
      },
      "outputs": [],
      "source": [
        "row + column"
      ]
    },
    {
      "cell_type": "markdown",
      "metadata": {
        "id": "tMdSsqXfiXcZ"
      },
      "source": [
        "<center><img src=\"https://raw.githubusercontent.com/ssanderson/pydata-toolbox/master/notebooks/images/broadcasting.png\" alt=\"Drawing\" style=\"width: 60%;\"/></center>\n",
        "\n",
        "<h5>Source: http://www.scipy-lectures.org/_images/numpy_broadcasting.png</h5>"
      ]
    },
    {
      "cell_type": "code",
      "execution_count": null,
      "metadata": {
        "id": "JVLNvazIiXcZ"
      },
      "outputs": [],
      "source": [
        "# Broadcasting is particularly useful in conjunction with reductions.\n",
        "print(\"Data:\\n\", data, sep='')\n",
        "print(\"Mean:\\n\", data.mean(axis=0), sep='')\n",
        "print(\"Data - Mean:\\n\", data - data.mean(axis=0), sep='')"
      ]
    },
    {
      "cell_type": "markdown",
      "metadata": {
        "id": "JHmGF_mGiXcZ"
      },
      "source": [
        "# Broadcasting Review\n",
        "\n",
        "- Numpy operations can work on arrays of different dimensions as long as the arrays' shapes are still \"compatible\".\n",
        "- Broadcasting works by \"tiling\" the smaller array along the missing dimension.\n",
        "- The result of a broadcasted operation is always at least as large in each dimension as the largest array in that dimension."
      ]
    },
    {
      "cell_type": "markdown",
      "metadata": {
        "id": "Tmy_pKVniXca"
      },
      "source": [
        "# Numpy Review"
      ]
    },
    {
      "cell_type": "markdown",
      "metadata": {
        "id": "TiKskIDqiXca"
      },
      "source": [
        "- Numerical algorithms are slow in pure Python because the overhead dynamic dispatch dominates our runtime."
      ]
    },
    {
      "cell_type": "markdown",
      "metadata": {
        "id": "WRex_YahiXca"
      },
      "source": [
        "- Numpy solves this problem by:\n",
        "  1. Imposing additional restrictions on the contents of arrays.\n",
        "  2. Moving the inner loops of our algorithms into compiled C code."
      ]
    },
    {
      "cell_type": "markdown",
      "metadata": {
        "id": "HHcs1cowiXca"
      },
      "source": [
        "- Using Numpy effectively often requires reworking an algorithms to use vectorized operations instead of for-loops, but the resulting operations are usually simpler, clearer, and faster than the pure Python equivalent."
      ]
    },
    {
      "cell_type": "markdown",
      "metadata": {
        "id": "GoPdOSfSiXca"
      },
      "source": [
        "<center><img src=\"https://raw.githubusercontent.com/ssanderson/pydata-toolbox/master/notebooks/images/unicorn.jpg\" alt=\"Drawing\" style=\"width: 75%;\"/></center>"
      ]
    },
    {
      "cell_type": "markdown",
      "metadata": {
        "id": "GqyHpT0DiXca"
      },
      "source": [
        "Numpy is great for many things, but..."
      ]
    },
    {
      "cell_type": "markdown",
      "metadata": {
        "id": "t2pSdZyeiXca"
      },
      "source": [
        "- Sometimes our data is equipped with a natural set of **labels**:\n",
        "  - Dates/Times\n",
        "  - Stock Tickers\n",
        "  - Field Names (e.g. Open/High/Low/Close)"
      ]
    },
    {
      "cell_type": "markdown",
      "metadata": {
        "id": "eQkbld3YiXca"
      },
      "source": [
        "- Sometimes we have **more than one type of data** that we want to keep grouped together.\n",
        "  - Tables with a mix of real-valued and categorical data."
      ]
    },
    {
      "cell_type": "markdown",
      "metadata": {
        "id": "FUUCEShmiXcb"
      },
      "source": [
        "- Sometimes we have **missing** data, which we need to ignore, fill, or otherwise work around."
      ]
    },
    {
      "cell_type": "markdown",
      "metadata": {
        "id": "7BErgdXjiXcb"
      },
      "source": [
        "<center><img src=\"https://raw.githubusercontent.com/ssanderson/pydata-toolbox/master/notebooks/images/panda-wrangling.gif\" alt=\"Drawing\" style=\"width: 75%;\"/></center>"
      ]
    },
    {
      "cell_type": "markdown",
      "metadata": {
        "id": "B-LuFQ2BiXcb"
      },
      "source": [
        "<center><img src=\"https://raw.githubusercontent.com/ssanderson/pydata-toolbox/master/notebooks/images/pandas_logo.png\" alt=\"Drawing\" style=\"width: 75%;\"/></center>\n"
      ]
    },
    {
      "cell_type": "markdown",
      "metadata": {
        "id": "B8Hv2pY4iXcb"
      },
      "source": [
        "Pandas extends Numpy with more complex data structures:\n",
        "\n",
        "- `Series`: 1-dimensional, homogenously-typed, labelled array.\n",
        "- `DataFrame`: 2-dimensional, semi-homogenous, labelled table."
      ]
    },
    {
      "cell_type": "markdown",
      "metadata": {
        "id": "xYDFME14iXcb"
      },
      "source": [
        "Pandas also provides many utilities for: \n",
        "- Input/Output\n",
        "- Data Cleaning\n",
        "- Rolling Algorithms\n",
        "- Plotting"
      ]
    },
    {
      "cell_type": "markdown",
      "metadata": {
        "id": "uOvK2ZfeiXcb"
      },
      "source": [
        "# Selection in Pandas"
      ]
    },
    {
      "cell_type": "code",
      "execution_count": null,
      "metadata": {
        "id": "G6ploxoOiXcb"
      },
      "outputs": [],
      "source": [
        "s = pd.Series(index=['a', 'b', 'c', 'd', 'e'], data=[1, 2, 3, 4, 5])\n",
        "s"
      ]
    },
    {
      "cell_type": "code",
      "execution_count": null,
      "metadata": {
        "id": "PU-7iKpqiXcc"
      },
      "outputs": [],
      "source": [
        "# There are two pieces to a Series: the index and the values.\n",
        "print(\"The index is:\", s.index)\n",
        "print(\"The values are:\", s.values)"
      ]
    },
    {
      "cell_type": "code",
      "execution_count": null,
      "metadata": {
        "id": "pUnHyGr5iXcc"
      },
      "outputs": [],
      "source": [
        "# We can look up values out of a Series by position...\n",
        "s.iloc[0]"
      ]
    },
    {
      "cell_type": "code",
      "execution_count": null,
      "metadata": {
        "id": "IyM3qqygiXcc"
      },
      "outputs": [],
      "source": [
        "# ... or by label.\n",
        "s.loc['a']"
      ]
    },
    {
      "cell_type": "code",
      "execution_count": null,
      "metadata": {
        "id": "JrCItQtiiXcc"
      },
      "outputs": [],
      "source": [
        "# Slicing works as expected...\n",
        "s.iloc[:2]"
      ]
    },
    {
      "cell_type": "code",
      "execution_count": null,
      "metadata": {
        "id": "tzTbbk9YiXcc"
      },
      "outputs": [],
      "source": [
        "# ...but it works with labels too!\n",
        "s.loc[:'c']"
      ]
    },
    {
      "cell_type": "code",
      "execution_count": null,
      "metadata": {
        "id": "qrVQ0b0ziXcd"
      },
      "outputs": [],
      "source": [
        "# Fancy indexing works the same as in numpy.\n",
        "s.iloc[[0, -1]]"
      ]
    },
    {
      "cell_type": "code",
      "execution_count": null,
      "metadata": {
        "id": "THswhsDLiXcd"
      },
      "outputs": [],
      "source": [
        "# As does boolean masking.\n",
        "s.loc[s > 2]"
      ]
    },
    {
      "cell_type": "code",
      "execution_count": null,
      "metadata": {
        "id": "nYGjpHaIiXcd"
      },
      "outputs": [],
      "source": [
        "# Element-wise operations are aligned by index.\n",
        "other_s = pd.Series({'a': 10.0, 'c': 20.0, 'd': 30.0, 'z': 40.0})\n",
        "other_s"
      ]
    },
    {
      "cell_type": "code",
      "execution_count": null,
      "metadata": {
        "id": "nkK07CuEiXcd"
      },
      "outputs": [],
      "source": [
        "s + other_s"
      ]
    },
    {
      "cell_type": "code",
      "execution_count": null,
      "metadata": {
        "id": "pePOoBl3iXcd"
      },
      "outputs": [],
      "source": [
        "# We can fill in missing values with fillna().\n",
        "(s + other_s).fillna(0.0)"
      ]
    },
    {
      "cell_type": "code",
      "execution_count": null,
      "metadata": {
        "id": "8LYqk1oDiXcd"
      },
      "outputs": [],
      "source": [
        "# Most real datasets are read in from an external file format.\n",
        "aapl = pd.read_csv('AAPL.csv', parse_dates=['Date'], index_col='Date')\n",
        "aapl.head()"
      ]
    },
    {
      "cell_type": "code",
      "execution_count": null,
      "metadata": {
        "id": "JasJjximiXcd"
      },
      "outputs": [],
      "source": [
        "# Slicing generalizes to two dimensions as you'd expect:\n",
        "aapl.iloc[:2, :2]"
      ]
    },
    {
      "cell_type": "code",
      "execution_count": null,
      "metadata": {
        "id": "aAnXEGHMiXce"
      },
      "outputs": [],
      "source": [
        "aapl.loc[pd.Timestamp('2010-02-01'):pd.Timestamp('2010-02-04'), ['Close', 'Volume']]"
      ]
    },
    {
      "cell_type": "markdown",
      "metadata": {
        "id": "Up935r8GiXce"
      },
      "source": [
        "# Rolling Operations"
      ]
    },
    {
      "cell_type": "markdown",
      "metadata": {
        "id": "28dFZSZmiXce"
      },
      "source": [
        "<center><img src=\"https://raw.githubusercontent.com/ssanderson/pydata-toolbox/master/notebooks/images/rolling.gif\" alt=\"Drawing\" style=\"width: 75%;\"/></center>"
      ]
    },
    {
      "cell_type": "code",
      "execution_count": null,
      "metadata": {
        "id": "-YvkXxL0iXce"
      },
      "outputs": [],
      "source": [
        "aapl.rolling(5)[['Close', 'Adj Close']].mean().plot();"
      ]
    },
    {
      "cell_type": "code",
      "execution_count": null,
      "metadata": {
        "id": "HKynE6AMiXce"
      },
      "outputs": [],
      "source": [
        "# Drop `Volume`, since it's way bigger than everything else.\n",
        "aapl.drop('Volume', axis=1).resample('2W').max().plot();"
      ]
    },
    {
      "cell_type": "code",
      "execution_count": null,
      "metadata": {
        "id": "ayoPHapZiXce"
      },
      "outputs": [],
      "source": [
        "# 30-day rolling exponentially-weighted stddev of returns.\n",
        "aapl['Close'].pct_change().ewm(span=30).std().plot();"
      ]
    },
    {
      "cell_type": "markdown",
      "metadata": {
        "id": "npT_ZgpYiXce"
      },
      "source": [
        "# \"Real World\" Data"
      ]
    },
    {
      "cell_type": "code",
      "execution_count": null,
      "metadata": {
        "id": "XcYC7BGAiXcf",
        "colab": {
          "base_uri": "https://localhost:8080/",
          "height": 241
        },
        "outputId": "0a9d4830-f451-4f2c-f306-e25906d300e2"
      },
      "outputs": [
        {
          "output_type": "stream",
          "name": "stderr",
          "text": [
            "/content/demos/avocados.py:55: FutureWarning: The default value of regex will change from True to False in a future version.\n",
            "  frame['Region'] = frame['Region'].str.replace(' U.S.', '')\n"
          ]
        },
        {
          "output_type": "execute_result",
          "data": {
            "text/plain": [
              "                       Date     Region Variety  Organic  Number of Stores  \\\n",
              "0 2014-01-03 00:00:00+00:00   NATIONAL    HASS    False              9184   \n",
              "1 2014-01-03 00:00:00+00:00   NATIONAL    HASS     True               872   \n",
              "2 2014-01-03 00:00:00+00:00  NORTHEAST    HASS    False              1449   \n",
              "3 2014-01-03 00:00:00+00:00  NORTHEAST    HASS     True                66   \n",
              "4 2014-01-03 00:00:00+00:00  SOUTHEAST    HASS    False              2286   \n",
              "\n",
              "   Weighted Avg Price  Low Price  High Price  \n",
              "0                0.93        NaN         NaN  \n",
              "1                1.44        NaN         NaN  \n",
              "2                1.08        0.5        1.67  \n",
              "3                1.54        1.5        2.00  \n",
              "4                0.98        0.5        1.99  "
            ],
            "text/html": [
              "\n",
              "  <div id=\"df-1fe6cd72-3a5b-43b6-89c5-c9ff40808b76\">\n",
              "    <div class=\"colab-df-container\">\n",
              "      <div>\n",
              "<style scoped>\n",
              "    .dataframe tbody tr th:only-of-type {\n",
              "        vertical-align: middle;\n",
              "    }\n",
              "\n",
              "    .dataframe tbody tr th {\n",
              "        vertical-align: top;\n",
              "    }\n",
              "\n",
              "    .dataframe thead th {\n",
              "        text-align: right;\n",
              "    }\n",
              "</style>\n",
              "<table border=\"1\" class=\"dataframe\">\n",
              "  <thead>\n",
              "    <tr style=\"text-align: right;\">\n",
              "      <th></th>\n",
              "      <th>Date</th>\n",
              "      <th>Region</th>\n",
              "      <th>Variety</th>\n",
              "      <th>Organic</th>\n",
              "      <th>Number of Stores</th>\n",
              "      <th>Weighted Avg Price</th>\n",
              "      <th>Low Price</th>\n",
              "      <th>High Price</th>\n",
              "    </tr>\n",
              "  </thead>\n",
              "  <tbody>\n",
              "    <tr>\n",
              "      <th>0</th>\n",
              "      <td>2014-01-03 00:00:00+00:00</td>\n",
              "      <td>NATIONAL</td>\n",
              "      <td>HASS</td>\n",
              "      <td>False</td>\n",
              "      <td>9184</td>\n",
              "      <td>0.93</td>\n",
              "      <td>NaN</td>\n",
              "      <td>NaN</td>\n",
              "    </tr>\n",
              "    <tr>\n",
              "      <th>1</th>\n",
              "      <td>2014-01-03 00:00:00+00:00</td>\n",
              "      <td>NATIONAL</td>\n",
              "      <td>HASS</td>\n",
              "      <td>True</td>\n",
              "      <td>872</td>\n",
              "      <td>1.44</td>\n",
              "      <td>NaN</td>\n",
              "      <td>NaN</td>\n",
              "    </tr>\n",
              "    <tr>\n",
              "      <th>2</th>\n",
              "      <td>2014-01-03 00:00:00+00:00</td>\n",
              "      <td>NORTHEAST</td>\n",
              "      <td>HASS</td>\n",
              "      <td>False</td>\n",
              "      <td>1449</td>\n",
              "      <td>1.08</td>\n",
              "      <td>0.5</td>\n",
              "      <td>1.67</td>\n",
              "    </tr>\n",
              "    <tr>\n",
              "      <th>3</th>\n",
              "      <td>2014-01-03 00:00:00+00:00</td>\n",
              "      <td>NORTHEAST</td>\n",
              "      <td>HASS</td>\n",
              "      <td>True</td>\n",
              "      <td>66</td>\n",
              "      <td>1.54</td>\n",
              "      <td>1.5</td>\n",
              "      <td>2.00</td>\n",
              "    </tr>\n",
              "    <tr>\n",
              "      <th>4</th>\n",
              "      <td>2014-01-03 00:00:00+00:00</td>\n",
              "      <td>SOUTHEAST</td>\n",
              "      <td>HASS</td>\n",
              "      <td>False</td>\n",
              "      <td>2286</td>\n",
              "      <td>0.98</td>\n",
              "      <td>0.5</td>\n",
              "      <td>1.99</td>\n",
              "    </tr>\n",
              "  </tbody>\n",
              "</table>\n",
              "</div>\n",
              "      <button class=\"colab-df-convert\" onclick=\"convertToInteractive('df-1fe6cd72-3a5b-43b6-89c5-c9ff40808b76')\"\n",
              "              title=\"Convert this dataframe to an interactive table.\"\n",
              "              style=\"display:none;\">\n",
              "        \n",
              "  <svg xmlns=\"http://www.w3.org/2000/svg\" height=\"24px\"viewBox=\"0 0 24 24\"\n",
              "       width=\"24px\">\n",
              "    <path d=\"M0 0h24v24H0V0z\" fill=\"none\"/>\n",
              "    <path d=\"M18.56 5.44l.94 2.06.94-2.06 2.06-.94-2.06-.94-.94-2.06-.94 2.06-2.06.94zm-11 1L8.5 8.5l.94-2.06 2.06-.94-2.06-.94L8.5 2.5l-.94 2.06-2.06.94zm10 10l.94 2.06.94-2.06 2.06-.94-2.06-.94-.94-2.06-.94 2.06-2.06.94z\"/><path d=\"M17.41 7.96l-1.37-1.37c-.4-.4-.92-.59-1.43-.59-.52 0-1.04.2-1.43.59L10.3 9.45l-7.72 7.72c-.78.78-.78 2.05 0 2.83L4 21.41c.39.39.9.59 1.41.59.51 0 1.02-.2 1.41-.59l7.78-7.78 2.81-2.81c.8-.78.8-2.07 0-2.86zM5.41 20L4 18.59l7.72-7.72 1.47 1.35L5.41 20z\"/>\n",
              "  </svg>\n",
              "      </button>\n",
              "      \n",
              "  <style>\n",
              "    .colab-df-container {\n",
              "      display:flex;\n",
              "      flex-wrap:wrap;\n",
              "      gap: 12px;\n",
              "    }\n",
              "\n",
              "    .colab-df-convert {\n",
              "      background-color: #E8F0FE;\n",
              "      border: none;\n",
              "      border-radius: 50%;\n",
              "      cursor: pointer;\n",
              "      display: none;\n",
              "      fill: #1967D2;\n",
              "      height: 32px;\n",
              "      padding: 0 0 0 0;\n",
              "      width: 32px;\n",
              "    }\n",
              "\n",
              "    .colab-df-convert:hover {\n",
              "      background-color: #E2EBFA;\n",
              "      box-shadow: 0px 1px 2px rgba(60, 64, 67, 0.3), 0px 1px 3px 1px rgba(60, 64, 67, 0.15);\n",
              "      fill: #174EA6;\n",
              "    }\n",
              "\n",
              "    [theme=dark] .colab-df-convert {\n",
              "      background-color: #3B4455;\n",
              "      fill: #D2E3FC;\n",
              "    }\n",
              "\n",
              "    [theme=dark] .colab-df-convert:hover {\n",
              "      background-color: #434B5C;\n",
              "      box-shadow: 0px 1px 3px 1px rgba(0, 0, 0, 0.15);\n",
              "      filter: drop-shadow(0px 1px 2px rgba(0, 0, 0, 0.3));\n",
              "      fill: #FFFFFF;\n",
              "    }\n",
              "  </style>\n",
              "\n",
              "      <script>\n",
              "        const buttonEl =\n",
              "          document.querySelector('#df-1fe6cd72-3a5b-43b6-89c5-c9ff40808b76 button.colab-df-convert');\n",
              "        buttonEl.style.display =\n",
              "          google.colab.kernel.accessAllowed ? 'block' : 'none';\n",
              "\n",
              "        async function convertToInteractive(key) {\n",
              "          const element = document.querySelector('#df-1fe6cd72-3a5b-43b6-89c5-c9ff40808b76');\n",
              "          const dataTable =\n",
              "            await google.colab.kernel.invokeFunction('convertToInteractive',\n",
              "                                                     [key], {});\n",
              "          if (!dataTable) return;\n",
              "\n",
              "          const docLinkHtml = 'Like what you see? Visit the ' +\n",
              "            '<a target=\"_blank\" href=https://colab.research.google.com/notebooks/data_table.ipynb>data table notebook</a>'\n",
              "            + ' to learn more about interactive tables.';\n",
              "          element.innerHTML = '';\n",
              "          dataTable['output_type'] = 'display_data';\n",
              "          await google.colab.output.renderOutput(dataTable, element);\n",
              "          const docLink = document.createElement('div');\n",
              "          docLink.innerHTML = docLinkHtml;\n",
              "          element.appendChild(docLink);\n",
              "        }\n",
              "      </script>\n",
              "    </div>\n",
              "  </div>\n",
              "  "
            ]
          },
          "metadata": {},
          "execution_count": 2
        }
      ],
      "source": [
        "from demos.avocados import read_avocadata\n",
        "\n",
        "avocados = read_avocadata('2014', '2016')\n",
        "avocados.head()"
      ]
    },
    {
      "cell_type": "code",
      "execution_count": null,
      "metadata": {
        "id": "tjk0EsEsiXcf"
      },
      "outputs": [],
      "source": [
        "# Unlike numpy arrays, pandas DataFrames can have a different dtype for each column.\n",
        "avocados.dtypes"
      ]
    },
    {
      "cell_type": "code",
      "execution_count": null,
      "metadata": {
        "id": "YcpqjQCdiXcf",
        "colab": {
          "base_uri": "https://localhost:8080/",
          "height": 277
        },
        "outputId": "25220451-712f-4e21-cb84-4af324cb6e0a"
      },
      "outputs": [
        {
          "output_type": "display_data",
          "data": {
            "text/plain": [
              "<Figure size 432x288 with 1 Axes>"
            ],
            "image/png": "[encoded data removed]"
          },
          "metadata": {
            "needs_background": "light"
          }
        }
      ],
      "source": [
        "# What's the regional average price of a HASS avocado every day?\n",
        "hass = avocados[avocados.Variety == 'HASS']\n",
        "hass.groupby(['Date', 'Region'])['Weighted Avg Price'].mean().unstack().ffill().plot();"
      ]
    },
    {
      "cell_type": "code",
      "execution_count": null,
      "metadata": {
        "collapsed": true,
        "id": "k1Zdnr4jiXcf"
      },
      "outputs": [],
      "source": [
        "def _organic_spread(group):\n",
        "\n",
        "    if len(group.columns) != 2:\n",
        "        return pd.Series(index=group.index, data=0.0)\n",
        "    \n",
        "    is_organic = group.columns.get_level_values('Organic').values.astype(bool)\n",
        "    organics = group.loc[:, is_organic].squeeze()\n",
        "    non_organics = group.loc[:, ~is_organic].squeeze()\n",
        "    diff = organics - non_organics\n",
        "    return diff\n",
        "\n",
        "def organic_spread_by_region(df):\n",
        "    \"\"\"What's the difference between the price of an organic \n",
        "    and non-organic avocado within each region?\n",
        "    \"\"\"\n",
        "    return (\n",
        "        df\n",
        "        .set_index(['Date', 'Region', 'Organic'])\n",
        "         ['Weighted Avg Price']\n",
        "        .unstack(level=['Region', 'Organic'])\n",
        "        .ffill()\n",
        "        .groupby(level='Region', axis=1)\n",
        "        .apply(_organic_spread)\n",
        "    )"
      ]
    },
    {
      "cell_type": "code",
      "execution_count": null,
      "metadata": {
        "id": "iU-Th92BiXcf"
      },
      "outputs": [],
      "source": [
        "organic_spread_by_region(hass).plot();\n",
        "plt.gca().set_title(\"Daily Regional Organic Spread\");\n",
        "plt.legend(bbox_to_anchor=(1, 1));"
      ]
    },
    {
      "cell_type": "code",
      "execution_count": null,
      "metadata": {
        "id": "vjR02HpEiXcg"
      },
      "outputs": [],
      "source": [
        "spread_correlation = organic_spread_by_region(hass).corr()\n",
        "spread_correlation"
      ]
    },
    {
      "cell_type": "code",
      "execution_count": null,
      "metadata": {
        "id": "-fbKjqw6iXcg"
      },
      "outputs": [],
      "source": [
        "import seaborn as sns\n",
        "grid = sns.clustermap(spread_correlation, annot=True)\n",
        "fig = grid.fig\n",
        "axes = fig.axes\n",
        "ax = axes[2]\n",
        "ax.set_xticklabels(ax.get_xticklabels(), rotation=45);"
      ]
    },
    {
      "cell_type": "markdown",
      "source": [
        "MY OWN EXAMPLE"
      ],
      "metadata": {
        "id": "tmqRxwCMv5qR"
      }
    },
    {
      "cell_type": "code",
      "source": [
        "import pandas as pd\n",
        "\n",
        "cobertura_canal_13 = pd.read_csv(\"https://www.datos.gov.co/api/views/utr6-ng67/rows.csv?accessType=DOWNLOAD\")\n",
        "\n",
        "cobertura_canal_13"
      ],
      "metadata": {
        "colab": {
          "base_uri": "https://localhost:8080/",
          "height": 676
        },
        "id": "SH1DQPBuv5OV",
        "outputId": "0de0fb75-47d4-4510-b5fb-3a1c018957b6"
      },
      "execution_count": null,
      "outputs": [
        {
          "output_type": "execute_result",
          "data": {
            "text/plain": [
              "    Departamento          Municipio  Codigo Dane  Poblacion        Estacion  \\\n",
              "0    BOGOTA D.C.        BOGOTA D.C.        11001    8883649       CALATRAVA   \n",
              "1    BOGOTA D.C.        BOGOTA D.C.        11001    8883649      CRUZ VERDE   \n",
              "2    BOGOTA D.C.        BOGOTA D.C.        11001    8883649          MANJUI   \n",
              "3         BOYACA            SOCORRO        68755      33105  ALTO DE SABOYA   \n",
              "4         BOYACA             AGUADA        68013       1833  ALTO DE SABOYA   \n",
              "..           ...                ...          ...        ...             ...   \n",
              "176       TOLIMA             IBAGUE        73001     614591          MANJUI   \n",
              "177       TOLIMA             LERIDA        73408      17621          MANJUI   \n",
              "178       TOLIMA          MARIQUITA        73443      35349          MANJUI   \n",
              "179       TOLIMA          NATAGAIMA        73483      23590     CERRO NEIVA   \n",
              "180       TOLIMA  VALLE DE SAN JUAN        73854       6830          MANJUI   \n",
              "\n",
              "     Canal LatitudEstacionGrados LongitudEstacionGrados  LatitudEstacion  \\\n",
              "0       23          4°43'39.62\"N           74°4'51.46\"W         4.727672   \n",
              "1       23          4°31'16.86\"N           74°4'24.51\"W         4.521350   \n",
              "2       13          4°48'11.03\"N          74°23'36.28\"W         4.803064   \n",
              "3        6          5°42'53.51\"N          73°48'45.41\"W         5.714864   \n",
              "4        6          5°42'53.51\"N          73°48'45.41\"W         5.714864   \n",
              "..     ...                   ...                    ...              ...   \n",
              "176     13          4°48'11.03\"N          74°23'36.28\"W         4.803064   \n",
              "177     13          4°48'11.03\"N          74°23'36.28\"W         4.803064   \n",
              "178     13          4°48'11.03\"N          74°23'36.28\"W         4.803064   \n",
              "179     28           2°48'36.5\"N              75°9'43\"W         2.810139   \n",
              "180     13          4°48'11.03\"N          74°23'36.28\"W         4.803064   \n",
              "\n",
              "     LongitudEstacion  Cobertura poblacional  \\\n",
              "0          -74.080961                2961216   \n",
              "1          -74.073475                2961216   \n",
              "2          -74.393411                2961216   \n",
              "3          -73.812614                  33105   \n",
              "4          -73.812614                    916   \n",
              "..                ...                    ...   \n",
              "176        -74.393411                 614591   \n",
              "177        -74.393411                  17621   \n",
              "178        -74.393411                  35349   \n",
              "179        -75.161944                  23590   \n",
              "180        -74.393411                   6830   \n",
              "\n",
              "     Porcentaje de cobertura departamental.     Valor                Location  \\\n",
              "0                                    0.3333  0.333333  Bogotá, D.C., Colombia   \n",
              "1                                    0.3333  0.333333  Bogotá, D.C., Colombia   \n",
              "2                                    0.3333  0.333333  Bogotá, D.C., Colombia   \n",
              "3                                    0.0243  0.024267        Boyacá, Colombia   \n",
              "4                                    0.0007  0.000672        Boyacá, Colombia   \n",
              "..                                      ...       ...                     ...   \n",
              "176                                  0.4062  0.406189        Tolima, Colombia   \n",
              "177                                  0.0116  0.011646        Tolima, Colombia   \n",
              "178                                  0.0234  0.023362        Tolima, Colombia   \n",
              "179                                  0.0156  0.015591        Tolima, Colombia   \n",
              "180                                  0.0045  0.004514        Tolima, Colombia   \n",
              "\n",
              "                      Fecha  \n",
              "0    11/09/2021 12:00:00 AM  \n",
              "1    11/09/2021 12:00:00 AM  \n",
              "2    11/09/2021 12:00:00 AM  \n",
              "3    11/09/2021 12:00:00 AM  \n",
              "4    11/09/2021 12:00:00 AM  \n",
              "..                      ...  \n",
              "176  11/09/2021 12:00:00 AM  \n",
              "177  11/09/2021 12:00:00 AM  \n",
              "178  11/09/2021 12:00:00 AM  \n",
              "179  11/09/2021 12:00:00 AM  \n",
              "180  11/09/2021 12:00:00 AM  \n",
              "\n",
              "[181 rows x 15 columns]"
            ],
            "text/html": [
              "\n",
              "  <div id=\"df-9d3da699-c90a-434f-af64-bcb4d234c1d6\">\n",
              "    <div class=\"colab-df-container\">\n",
              "      <div>\n",
              "<style scoped>\n",
              "    .dataframe tbody tr th:only-of-type {\n",
              "        vertical-align: middle;\n",
              "    }\n",
              "\n",
              "    .dataframe tbody tr th {\n",
              "        vertical-align: top;\n",
              "    }\n",
              "\n",
              "    .dataframe thead th {\n",
              "        text-align: right;\n",
              "    }\n",
              "</style>\n",
              "<table border=\"1\" class=\"dataframe\">\n",
              "  <thead>\n",
              "    <tr style=\"text-align: right;\">\n",
              "      <th></th>\n",
              "      <th>Departamento</th>\n",
              "      <th>Municipio</th>\n",
              "      <th>Codigo Dane</th>\n",
              "      <th>Poblacion</th>\n",
              "      <th>Estacion</th>\n",
              "      <th>Canal</th>\n",
              "      <th>LatitudEstacionGrados</th>\n",
              "      <th>LongitudEstacionGrados</th>\n",
              "      <th>LatitudEstacion</th>\n",
              "      <th>LongitudEstacion</th>\n",
              "      <th>Cobertura poblacional</th>\n",
              "      <th>Porcentaje de cobertura departamental.</th>\n",
              "      <th>Valor</th>\n",
              "      <th>Location</th>\n",
              "      <th>Fecha</th>\n",
              "    </tr>\n",
              "  </thead>\n",
              "  <tbody>\n",
              "    <tr>\n",
              "      <th>0</th>\n",
              "      <td>BOGOTA D.C.</td>\n",
              "      <td>BOGOTA D.C.</td>\n",
              "      <td>11001</td>\n",
              "      <td>8883649</td>\n",
              "      <td>CALATRAVA</td>\n",
              "      <td>23</td>\n",
              "      <td>4°43'39.62\"N</td>\n",
              "      <td>74°4'51.46\"W</td>\n",
              "      <td>4.727672</td>\n",
              "      <td>-74.080961</td>\n",
              "      <td>2961216</td>\n",
              "      <td>0.3333</td>\n",
              "      <td>0.333333</td>\n",
              "      <td>Bogotá, D.C., Colombia</td>\n",
              "      <td>11/09/2021 12:00:00 AM</td>\n",
              "    </tr>\n",
              "    <tr>\n",
              "      <th>1</th>\n",
              "      <td>BOGOTA D.C.</td>\n",
              "      <td>BOGOTA D.C.</td>\n",
              "      <td>11001</td>\n",
              "      <td>8883649</td>\n",
              "      <td>CRUZ VERDE</td>\n",
              "      <td>23</td>\n",
              "      <td>4°31'16.86\"N</td>\n",
              "      <td>74°4'24.51\"W</td>\n",
              "      <td>4.521350</td>\n",
              "      <td>-74.073475</td>\n",
              "      <td>2961216</td>\n",
              "      <td>0.3333</td>\n",
              "      <td>0.333333</td>\n",
              "      <td>Bogotá, D.C., Colombia</td>\n",
              "      <td>11/09/2021 12:00:00 AM</td>\n",
              "    </tr>\n",
              "    <tr>\n",
              "      <th>2</th>\n",
              "      <td>BOGOTA D.C.</td>\n",
              "      <td>BOGOTA D.C.</td>\n",
              "      <td>11001</td>\n",
              "      <td>8883649</td>\n",
              "      <td>MANJUI</td>\n",
              "      <td>13</td>\n",
              "      <td>4°48'11.03\"N</td>\n",
              "      <td>74°23'36.28\"W</td>\n",
              "      <td>4.803064</td>\n",
              "      <td>-74.393411</td>\n",
              "      <td>2961216</td>\n",
              "      <td>0.3333</td>\n",
              "      <td>0.333333</td>\n",
              "      <td>Bogotá, D.C., Colombia</td>\n",
              "      <td>11/09/2021 12:00:00 AM</td>\n",
              "    </tr>\n",
              "    <tr>\n",
              "      <th>3</th>\n",
              "      <td>BOYACA</td>\n",
              "      <td>SOCORRO</td>\n",
              "      <td>68755</td>\n",
              "      <td>33105</td>\n",
              "      <td>ALTO DE SABOYA</td>\n",
              "      <td>6</td>\n",
              "      <td>5°42'53.51\"N</td>\n",
              "      <td>73°48'45.41\"W</td>\n",
              "      <td>5.714864</td>\n",
              "      <td>-73.812614</td>\n",
              "      <td>33105</td>\n",
              "      <td>0.0243</td>\n",
              "      <td>0.024267</td>\n",
              "      <td>Boyacá, Colombia</td>\n",
              "      <td>11/09/2021 12:00:00 AM</td>\n",
              "    </tr>\n",
              "    <tr>\n",
              "      <th>4</th>\n",
              "      <td>BOYACA</td>\n",
              "      <td>AGUADA</td>\n",
              "      <td>68013</td>\n",
              "      <td>1833</td>\n",
              "      <td>ALTO DE SABOYA</td>\n",
              "      <td>6</td>\n",
              "      <td>5°42'53.51\"N</td>\n",
              "      <td>73°48'45.41\"W</td>\n",
              "      <td>5.714864</td>\n",
              "      <td>-73.812614</td>\n",
              "      <td>916</td>\n",
              "      <td>0.0007</td>\n",
              "      <td>0.000672</td>\n",
              "      <td>Boyacá, Colombia</td>\n",
              "      <td>11/09/2021 12:00:00 AM</td>\n",
              "    </tr>\n",
              "    <tr>\n",
              "      <th>...</th>\n",
              "      <td>...</td>\n",
              "      <td>...</td>\n",
              "      <td>...</td>\n",
              "      <td>...</td>\n",
              "      <td>...</td>\n",
              "      <td>...</td>\n",
              "      <td>...</td>\n",
              "      <td>...</td>\n",
              "      <td>...</td>\n",
              "      <td>...</td>\n",
              "      <td>...</td>\n",
              "      <td>...</td>\n",
              "      <td>...</td>\n",
              "      <td>...</td>\n",
              "      <td>...</td>\n",
              "    </tr>\n",
              "    <tr>\n",
              "      <th>176</th>\n",
              "      <td>TOLIMA</td>\n",
              "      <td>IBAGUE</td>\n",
              "      <td>73001</td>\n",
              "      <td>614591</td>\n",
              "      <td>MANJUI</td>\n",
              "      <td>13</td>\n",
              "      <td>4°48'11.03\"N</td>\n",
              "      <td>74°23'36.28\"W</td>\n",
              "      <td>4.803064</td>\n",
              "      <td>-74.393411</td>\n",
              "      <td>614591</td>\n",
              "      <td>0.4062</td>\n",
              "      <td>0.406189</td>\n",
              "      <td>Tolima, Colombia</td>\n",
              "      <td>11/09/2021 12:00:00 AM</td>\n",
              "    </tr>\n",
              "    <tr>\n",
              "      <th>177</th>\n",
              "      <td>TOLIMA</td>\n",
              "      <td>LERIDA</td>\n",
              "      <td>73408</td>\n",
              "      <td>17621</td>\n",
              "      <td>MANJUI</td>\n",
              "      <td>13</td>\n",
              "      <td>4°48'11.03\"N</td>\n",
              "      <td>74°23'36.28\"W</td>\n",
              "      <td>4.803064</td>\n",
              "      <td>-74.393411</td>\n",
              "      <td>17621</td>\n",
              "      <td>0.0116</td>\n",
              "      <td>0.011646</td>\n",
              "      <td>Tolima, Colombia</td>\n",
              "      <td>11/09/2021 12:00:00 AM</td>\n",
              "    </tr>\n",
              "    <tr>\n",
              "      <th>178</th>\n",
              "      <td>TOLIMA</td>\n",
              "      <td>MARIQUITA</td>\n",
              "      <td>73443</td>\n",
              "      <td>35349</td>\n",
              "      <td>MANJUI</td>\n",
              "      <td>13</td>\n",
              "      <td>4°48'11.03\"N</td>\n",
              "      <td>74°23'36.28\"W</td>\n",
              "      <td>4.803064</td>\n",
              "      <td>-74.393411</td>\n",
              "      <td>35349</td>\n",
              "      <td>0.0234</td>\n",
              "      <td>0.023362</td>\n",
              "      <td>Tolima, Colombia</td>\n",
              "      <td>11/09/2021 12:00:00 AM</td>\n",
              "    </tr>\n",
              "    <tr>\n",
              "      <th>179</th>\n",
              "      <td>TOLIMA</td>\n",
              "      <td>NATAGAIMA</td>\n",
              "      <td>73483</td>\n",
              "      <td>23590</td>\n",
              "      <td>CERRO NEIVA</td>\n",
              "      <td>28</td>\n",
              "      <td>2°48'36.5\"N</td>\n",
              "      <td>75°9'43\"W</td>\n",
              "      <td>2.810139</td>\n",
              "      <td>-75.161944</td>\n",
              "      <td>23590</td>\n",
              "      <td>0.0156</td>\n",
              "      <td>0.015591</td>\n",
              "      <td>Tolima, Colombia</td>\n",
              "      <td>11/09/2021 12:00:00 AM</td>\n",
              "    </tr>\n",
              "    <tr>\n",
              "      <th>180</th>\n",
              "      <td>TOLIMA</td>\n",
              "      <td>VALLE DE SAN JUAN</td>\n",
              "      <td>73854</td>\n",
              "      <td>6830</td>\n",
              "      <td>MANJUI</td>\n",
              "      <td>13</td>\n",
              "      <td>4°48'11.03\"N</td>\n",
              "      <td>74°23'36.28\"W</td>\n",
              "      <td>4.803064</td>\n",
              "      <td>-74.393411</td>\n",
              "      <td>6830</td>\n",
              "      <td>0.0045</td>\n",
              "      <td>0.004514</td>\n",
              "      <td>Tolima, Colombia</td>\n",
              "      <td>11/09/2021 12:00:00 AM</td>\n",
              "    </tr>\n",
              "  </tbody>\n",
              "</table>\n",
              "<p>181 rows × 15 columns</p>\n",
              "</div>\n",
              "      <button class=\"colab-df-convert\" onclick=\"convertToInteractive('df-9d3da699-c90a-434f-af64-bcb4d234c1d6')\"\n",
              "              title=\"Convert this dataframe to an interactive table.\"\n",
              "              style=\"display:none;\">\n",
              "        \n",
              "  <svg xmlns=\"http://www.w3.org/2000/svg\" height=\"24px\"viewBox=\"0 0 24 24\"\n",
              "       width=\"24px\">\n",
              "    <path d=\"M0 0h24v24H0V0z\" fill=\"none\"/>\n",
              "    <path d=\"M18.56 5.44l.94 2.06.94-2.06 2.06-.94-2.06-.94-.94-2.06-.94 2.06-2.06.94zm-11 1L8.5 8.5l.94-2.06 2.06-.94-2.06-.94L8.5 2.5l-.94 2.06-2.06.94zm10 10l.94 2.06.94-2.06 2.06-.94-2.06-.94-.94-2.06-.94 2.06-2.06.94z\"/><path d=\"M17.41 7.96l-1.37-1.37c-.4-.4-.92-.59-1.43-.59-.52 0-1.04.2-1.43.59L10.3 9.45l-7.72 7.72c-.78.78-.78 2.05 0 2.83L4 21.41c.39.39.9.59 1.41.59.51 0 1.02-.2 1.41-.59l7.78-7.78 2.81-2.81c.8-.78.8-2.07 0-2.86zM5.41 20L4 18.59l7.72-7.72 1.47 1.35L5.41 20z\"/>\n",
              "  </svg>\n",
              "      </button>\n",
              "      \n",
              "  <style>\n",
              "    .colab-df-container {\n",
              "      display:flex;\n",
              "      flex-wrap:wrap;\n",
              "      gap: 12px;\n",
              "    }\n",
              "\n",
              "    .colab-df-convert {\n",
              "      background-color: #E8F0FE;\n",
              "      border: none;\n",
              "      border-radius: 50%;\n",
              "      cursor: pointer;\n",
              "      display: none;\n",
              "      fill: #1967D2;\n",
              "      height: 32px;\n",
              "      padding: 0 0 0 0;\n",
              "      width: 32px;\n",
              "    }\n",
              "\n",
              "    .colab-df-convert:hover {\n",
              "      background-color: #E2EBFA;\n",
              "      box-shadow: 0px 1px 2px rgba(60, 64, 67, 0.3), 0px 1px 3px 1px rgba(60, 64, 67, 0.15);\n",
              "      fill: #174EA6;\n",
              "    }\n",
              "\n",
              "    [theme=dark] .colab-df-convert {\n",
              "      background-color: #3B4455;\n",
              "      fill: #D2E3FC;\n",
              "    }\n",
              "\n",
              "    [theme=dark] .colab-df-convert:hover {\n",
              "      background-color: #434B5C;\n",
              "      box-shadow: 0px 1px 3px 1px rgba(0, 0, 0, 0.15);\n",
              "      filter: drop-shadow(0px 1px 2px rgba(0, 0, 0, 0.3));\n",
              "      fill: #FFFFFF;\n",
              "    }\n",
              "  </style>\n",
              "\n",
              "      <script>\n",
              "        const buttonEl =\n",
              "          document.querySelector('#df-9d3da699-c90a-434f-af64-bcb4d234c1d6 button.colab-df-convert');\n",
              "        buttonEl.style.display =\n",
              "          google.colab.kernel.accessAllowed ? 'block' : 'none';\n",
              "\n",
              "        async function convertToInteractive(key) {\n",
              "          const element = document.querySelector('#df-9d3da699-c90a-434f-af64-bcb4d234c1d6');\n",
              "          const dataTable =\n",
              "            await google.colab.kernel.invokeFunction('convertToInteractive',\n",
              "                                                     [key], {});\n",
              "          if (!dataTable) return;\n",
              "\n",
              "          const docLinkHtml = 'Like what you see? Visit the ' +\n",
              "            '<a target=\"_blank\" href=https://colab.research.google.com/notebooks/data_table.ipynb>data table notebook</a>'\n",
              "            + ' to learn more about interactive tables.';\n",
              "          element.innerHTML = '';\n",
              "          dataTable['output_type'] = 'display_data';\n",
              "          await google.colab.output.renderOutput(dataTable, element);\n",
              "          const docLink = document.createElement('div');\n",
              "          docLink.innerHTML = docLinkHtml;\n",
              "          element.appendChild(docLink);\n",
              "        }\n",
              "      </script>\n",
              "    </div>\n",
              "  </div>\n",
              "  "
            ]
          },
          "metadata": {},
          "execution_count": 2
        }
      ]
    },
    {
      "cell_type": "code",
      "source": [
        "cobertura_canal_13.dtypes"
      ],
      "metadata": {
        "colab": {
          "base_uri": "https://localhost:8080/"
        },
        "id": "bcmoGysOzPK-",
        "outputId": "e31f11d6-3219-4438-e721-0bb55ff2183a"
      },
      "execution_count": null,
      "outputs": [
        {
          "output_type": "execute_result",
          "data": {
            "text/plain": [
              "Departamento                               object\n",
              "Municipio                                  object\n",
              "Codigo Dane                                 int64\n",
              "Poblacion                                   int64\n",
              "Estacion                                   object\n",
              "Canal                                       int64\n",
              "LatitudEstacionGrados                      object\n",
              "LongitudEstacionGrados                     object\n",
              "LatitudEstacion                           float64\n",
              "LongitudEstacion                          float64\n",
              "Cobertura poblacional                       int64\n",
              "Porcentaje de cobertura departamental.    float64\n",
              "Valor                                     float64\n",
              "Location                                   object\n",
              "Fecha                                      object\n",
              "dtype: object"
            ]
          },
          "metadata": {},
          "execution_count": 3
        }
      ]
    },
    {
      "cell_type": "code",
      "source": [
        "# Cobertura promedio por municipio en el departamento del Huila\n",
        "import matplotlib.pyplot as plt\n",
        "\n",
        "plt.title(\"Cobertura promedio por municipio en el departamento del Huila\")\n",
        "\n",
        "huila = cobertura_canal_13[cobertura_canal_13.Departamento == 'HUILA']\n",
        "\n",
        "data = huila.groupby([\"Municipio\"])[\"Cobertura poblacional\"].mean().plot(kind='bar')\n",
        "data.axes.get_yaxis().set_visible(True)\n",
        "\n",
        "\n"
      ],
      "metadata": {
        "colab": {
          "base_uri": "https://localhost:8080/",
          "height": 372
        },
        "id": "Y9b4vnxuzgpq",
        "outputId": "21c218ba-21d3-4146-872f-66b30f800761"
      },
      "execution_count": null,
      "outputs": [
        {
          "output_type": "display_data",
          "data": {
            "text/plain": [
              "<Figure size 432x288 with 1 Axes>"
            ],
            "image/png": "[encoded data removed]"
          },
          "metadata": {
            "needs_background": "light"
          }
        }
      ]
    },
    {
      "cell_type": "code",
      "source": [
        "# Los 10 departamentos con menor cobertura de colombia\n",
        "\n",
        "df = cobertura_canal_13.sort_values(by=['Porcentaje de cobertura departamental.']).head(10)\n",
        "res = df[['Municipio','Porcentaje de cobertura departamental.']]\n",
        "\n",
        "res"
      ],
      "metadata": {
        "colab": {
          "base_uri": "https://localhost:8080/",
          "height": 363
        },
        "id": "tV7QsUM_Zk94",
        "outputId": "bf39cffa-b6f8-47a0-d5a7-49680087a0c0"
      },
      "execution_count": null,
      "outputs": [
        {
          "output_type": "execute_result",
          "data": {
            "text/plain": [
              "       Municipio  Porcentaje de cobertura departamental.\n",
              "4         AGUADA                                  0.0007\n",
              "5         AGUADA                                  0.0007\n",
              "116      ZIPACON                                  0.0007\n",
              "115      ZIPACON                                  0.0007\n",
              "114      ZIPACON                                  0.0007\n",
              "64       BITUIMA                                  0.0008\n",
              "105       NARIÑO                                  0.0008\n",
              "96      GUATAQUI                                  0.0009\n",
              "65          PULI                                  0.0011\n",
              "23   JESUS MARIA                                  0.0012"
            ],
            "text/html": [
              "\n",
              "  <div id=\"df-b1fba3a5-fcce-41aa-b907-27ed89b1bc92\">\n",
              "    <div class=\"colab-df-container\">\n",
              "      <div>\n",
              "<style scoped>\n",
              "    .dataframe tbody tr th:only-of-type {\n",
              "        vertical-align: middle;\n",
              "    }\n",
              "\n",
              "    .dataframe tbody tr th {\n",
              "        vertical-align: top;\n",
              "    }\n",
              "\n",
              "    .dataframe thead th {\n",
              "        text-align: right;\n",
              "    }\n",
              "</style>\n",
              "<table border=\"1\" class=\"dataframe\">\n",
              "  <thead>\n",
              "    <tr style=\"text-align: right;\">\n",
              "      <th></th>\n",
              "      <th>Municipio</th>\n",
              "      <th>Porcentaje de cobertura departamental.</th>\n",
              "    </tr>\n",
              "  </thead>\n",
              "  <tbody>\n",
              "    <tr>\n",
              "      <th>4</th>\n",
              "      <td>AGUADA</td>\n",
              "      <td>0.0007</td>\n",
              "    </tr>\n",
              "    <tr>\n",
              "      <th>5</th>\n",
              "      <td>AGUADA</td>\n",
              "      <td>0.0007</td>\n",
              "    </tr>\n",
              "    <tr>\n",
              "      <th>116</th>\n",
              "      <td>ZIPACON</td>\n",
              "      <td>0.0007</td>\n",
              "    </tr>\n",
              "    <tr>\n",
              "      <th>115</th>\n",
              "      <td>ZIPACON</td>\n",
              "      <td>0.0007</td>\n",
              "    </tr>\n",
              "    <tr>\n",
              "      <th>114</th>\n",
              "      <td>ZIPACON</td>\n",
              "      <td>0.0007</td>\n",
              "    </tr>\n",
              "    <tr>\n",
              "      <th>64</th>\n",
              "      <td>BITUIMA</td>\n",
              "      <td>0.0008</td>\n",
              "    </tr>\n",
              "    <tr>\n",
              "      <th>105</th>\n",
              "      <td>NARIÑO</td>\n",
              "      <td>0.0008</td>\n",
              "    </tr>\n",
              "    <tr>\n",
              "      <th>96</th>\n",
              "      <td>GUATAQUI</td>\n",
              "      <td>0.0009</td>\n",
              "    </tr>\n",
              "    <tr>\n",
              "      <th>65</th>\n",
              "      <td>PULI</td>\n",
              "      <td>0.0011</td>\n",
              "    </tr>\n",
              "    <tr>\n",
              "      <th>23</th>\n",
              "      <td>JESUS MARIA</td>\n",
              "      <td>0.0012</td>\n",
              "    </tr>\n",
              "  </tbody>\n",
              "</table>\n",
              "</div>\n",
              "      <button class=\"colab-df-convert\" onclick=\"convertToInteractive('df-b1fba3a5-fcce-41aa-b907-27ed89b1bc92')\"\n",
              "              title=\"Convert this dataframe to an interactive table.\"\n",
              "              style=\"display:none;\">\n",
              "        \n",
              "  <svg xmlns=\"http://www.w3.org/2000/svg\" height=\"24px\"viewBox=\"0 0 24 24\"\n",
              "       width=\"24px\">\n",
              "    <path d=\"M0 0h24v24H0V0z\" fill=\"none\"/>\n",
              "    <path d=\"M18.56 5.44l.94 2.06.94-2.06 2.06-.94-2.06-.94-.94-2.06-.94 2.06-2.06.94zm-11 1L8.5 8.5l.94-2.06 2.06-.94-2.06-.94L8.5 2.5l-.94 2.06-2.06.94zm10 10l.94 2.06.94-2.06 2.06-.94-2.06-.94-.94-2.06-.94 2.06-2.06.94z\"/><path d=\"M17.41 7.96l-1.37-1.37c-.4-.4-.92-.59-1.43-.59-.52 0-1.04.2-1.43.59L10.3 9.45l-7.72 7.72c-.78.78-.78 2.05 0 2.83L4 21.41c.39.39.9.59 1.41.59.51 0 1.02-.2 1.41-.59l7.78-7.78 2.81-2.81c.8-.78.8-2.07 0-2.86zM5.41 20L4 18.59l7.72-7.72 1.47 1.35L5.41 20z\"/>\n",
              "  </svg>\n",
              "      </button>\n",
              "      \n",
              "  <style>\n",
              "    .colab-df-container {\n",
              "      display:flex;\n",
              "      flex-wrap:wrap;\n",
              "      gap: 12px;\n",
              "    }\n",
              "\n",
              "    .colab-df-convert {\n",
              "      background-color: #E8F0FE;\n",
              "      border: none;\n",
              "      border-radius: 50%;\n",
              "      cursor: pointer;\n",
              "      display: none;\n",
              "      fill: #1967D2;\n",
              "      height: 32px;\n",
              "      padding: 0 0 0 0;\n",
              "      width: 32px;\n",
              "    }\n",
              "\n",
              "    .colab-df-convert:hover {\n",
              "      background-color: #E2EBFA;\n",
              "      box-shadow: 0px 1px 2px rgba(60, 64, 67, 0.3), 0px 1px 3px 1px rgba(60, 64, 67, 0.15);\n",
              "      fill: #174EA6;\n",
              "    }\n",
              "\n",
              "    [theme=dark] .colab-df-convert {\n",
              "      background-color: #3B4455;\n",
              "      fill: #D2E3FC;\n",
              "    }\n",
              "\n",
              "    [theme=dark] .colab-df-convert:hover {\n",
              "      background-color: #434B5C;\n",
              "      box-shadow: 0px 1px 3px 1px rgba(0, 0, 0, 0.15);\n",
              "      filter: drop-shadow(0px 1px 2px rgba(0, 0, 0, 0.3));\n",
              "      fill: #FFFFFF;\n",
              "    }\n",
              "  </style>\n",
              "\n",
              "      <script>\n",
              "        const buttonEl =\n",
              "          document.querySelector('#df-b1fba3a5-fcce-41aa-b907-27ed89b1bc92 button.colab-df-convert');\n",
              "        buttonEl.style.display =\n",
              "          google.colab.kernel.accessAllowed ? 'block' : 'none';\n",
              "\n",
              "        async function convertToInteractive(key) {\n",
              "          const element = document.querySelector('#df-b1fba3a5-fcce-41aa-b907-27ed89b1bc92');\n",
              "          const dataTable =\n",
              "            await google.colab.kernel.invokeFunction('convertToInteractive',\n",
              "                                                     [key], {});\n",
              "          if (!dataTable) return;\n",
              "\n",
              "          const docLinkHtml = 'Like what you see? Visit the ' +\n",
              "            '<a target=\"_blank\" href=https://colab.research.google.com/notebooks/data_table.ipynb>data table notebook</a>'\n",
              "            + ' to learn more about interactive tables.';\n",
              "          element.innerHTML = '';\n",
              "          dataTable['output_type'] = 'display_data';\n",
              "          await google.colab.output.renderOutput(dataTable, element);\n",
              "          const docLink = document.createElement('div');\n",
              "          docLink.innerHTML = docLinkHtml;\n",
              "          element.appendChild(docLink);\n",
              "        }\n",
              "      </script>\n",
              "    </div>\n",
              "  </div>\n",
              "  "
            ]
          },
          "metadata": {},
          "execution_count": 5
        }
      ]
    },
    {
      "cell_type": "markdown",
      "metadata": {
        "id": "-6jsBAhQiXcg"
      },
      "source": [
        "# Pandas Review\n",
        "\n",
        "- Pandas extends numpy with more complex datastructures and algorithms.\n",
        "- If you understand numpy, you understand 90% of pandas.\n",
        "- `groupby`, `set_index`, and `unstack` are powerful tools for working with categorical data.\n",
        "- Avocado prices are surprisingly interesting :)"
      ]
    },
    {
      "cell_type": "markdown",
      "metadata": {
        "id": "_u_fG58UiXcg"
      },
      "source": [
        "# Thanks!"
      ]
    }
  ],
  "metadata": {
    "celltoolbar": "Slideshow",
    "kernelspec": {
      "display_name": "Python 3",
      "language": "python",
      "name": "python3"
    },
    "language_info": {
      "codemirror_mode": {
        "name": "ipython",
        "version": 3
      },
      "file_extension": ".py",
      "mimetype": "text/x-python",
      "name": "python",
      "nbconvert_exporter": "python",
      "pygments_lexer": "ipython3",
      "version": "3.5.2"
    },
    "livereveal": {
      "start_slideshow_at": "selected"
    },
    "name": "Main.ipynb",
    "colab": {
      "provenance": [],
      "collapsed_sections": [
        "gh1Uw4KtiXcK",
        "K81LXWsCiXcS",
        "9EsiKbSCiXcT",
        "zsIEVqkgiXcY",
        "JHmGF_mGiXcZ",
        "-6jsBAhQiXcg",
        "_u_fG58UiXcg"
      ],
      "include_colab_link": true
    }
  },
  "nbformat": 4,
  "nbformat_minor": 0
}